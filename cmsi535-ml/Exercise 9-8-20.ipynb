{
 "cells": [
  {
   "cell_type": "markdown",
   "metadata": {},
   "source": [
    "# Binary Classification Using Perceptron"
   ]
  },
  {
   "cell_type": "code",
   "execution_count": 1,
   "metadata": {},
   "outputs": [],
   "source": [
    "import numpy as np\n",
    "import sklearn.datasets as skdata"
   ]
  },
  {
   "cell_type": "code",
   "execution_count": 2,
   "metadata": {},
   "outputs": [],
   "source": [
    "# Load the breast cancer dataset\n",
    "\n",
    "breast_cancer_data = skdata.load_breast_cancer()\n",
    "x = breast_cancer_data.data\n",
    "y = breast_cancer_data.target"
   ]
  },
  {
   "cell_type": "code",
   "execution_count": 6,
   "metadata": {},
   "outputs": [],
   "source": [
    "# Splitting the breast cancer dataset into 80% train, 10% val, 10% test\n",
    "\n",
    "# creates permutation of all indices\n",
    "\n",
    "idx = np.random.permutation(x.shape[0]) \n",
    "\n",
    "train_split_idx = int(0.8 * x.shape[0])\n",
    "val_split_idx = int(0.9 * x.shape[0])\n",
    "\n",
    "train_idx = idx[:train_split_idx]\n",
    "val_idx = idx[train_split_idx:val_split_idx]\n",
    "test_idx = idx[val_split_idx:]\n",
    "\n",
    "# Select the examples from x and y to construct our training, validation \n",
    "# and testing sets\n",
    "\n",
    "x_train, y_train = x[train_idx, :], y[train_idx]\n",
    "x_val, y_val = x[val_idx, :], y[val_idx]\n",
    "x_test, y_test = x[test_idx, :], y[test_idx]"
   ]
  },
  {
   "cell_type": "code",
   "execution_count": 4,
   "metadata": {},
   "outputs": [],
   "source": [
    "from sklearn.linear_model import Perceptron\n",
    "\n",
    "# Sets up our Perceptron model, tol is the stopping threshold if the\n",
    "# training error at time t is greater than the training error at time\n",
    "# t-1 by tol penalty and alpha relates to regularization\n",
    "\n",
    "model = Perceptron(penalty = None, alpha = 0.0, tol = 1e-1)"
   ]
  },
  {
   "cell_type": "code",
   "execution_count": 7,
   "metadata": {},
   "outputs": [
    {
     "data": {
      "text/plain": [
       "Perceptron(alpha=0.0, tol=0.1)"
      ]
     },
     "execution_count": 7,
     "metadata": {},
     "output_type": "execute_result"
    }
   ],
   "source": [
    "# Trains our perceptron model\n",
    "\n",
    "model.fit(x_train, y_train)"
   ]
  },
  {
   "cell_type": "code",
   "execution_count": 11,
   "metadata": {},
   "outputs": [
    {
     "name": "stdout",
     "output_type": "stream",
     "text": [
      "[0 0 0 1 1 1 1 1 1 1 0 1 1 0 1 1 1 0 1 1 0 1 0 0 1 0 1 0 1 1 1 1 1 0 0 0 0\n",
      " 1 1 1 1 1 1 1 0 0 1 1 1 1 1 1 1 0 0 0 0]\n",
      "[0 1]\n"
     ]
    },
    {
     "data": {
      "text/plain": [
       "(57,)"
      ]
     },
     "execution_count": 11,
     "metadata": {},
     "output_type": "execute_result"
    }
   ],
   "source": [
    "# Predict the class/labels\n",
    "\n",
    "predictions_val = model.predict(x_val)\n",
    "\n",
    "# Examine this array, you will see 0's and 1's\n",
    "print(predictions_val)\n",
    "print(np.unique(predictions_val))\n",
    "np.shape(predictions_val)"
   ]
  },
  {
   "cell_type": "code",
   "execution_count": 14,
   "metadata": {},
   "outputs": [
    {
     "name": "stdout",
     "output_type": "stream",
     "text": [
      "0.9298245614035088\n"
     ]
    }
   ],
   "source": [
    "# Check our accuracy\n",
    "\n",
    "scores_val = np.where(predictions_val == y_val, 1, 0)\n",
    "mean_accuracy_val = np.mean(scores_val)\n",
    "print(mean_accuracy_val)"
   ]
  },
  {
   "cell_type": "code",
   "execution_count": 16,
   "metadata": {},
   "outputs": [
    {
     "name": "stdout",
     "output_type": "stream",
     "text": [
      "0.9298245614035088\n"
     ]
    }
   ],
   "source": [
    "# We can also use scikit-learn built-in function\n",
    "\n",
    "mean_accuracy_val = model.score(x_val, y_val)\n",
    "print(mean_accuracy_val)"
   ]
  },
  {
   "cell_type": "markdown",
   "metadata": {},
   "source": [
    "# Multiclass Classification Using Perceptron"
   ]
  },
  {
   "cell_type": "code",
   "execution_count": 17,
   "metadata": {},
   "outputs": [],
   "source": [
    "# Loading the wine dataset\n",
    "\n",
    "wine_data = skdata.load_wine()\n",
    "x = wine_data.data\n",
    "y = wine_data.target"
   ]
  },
  {
   "cell_type": "code",
   "execution_count": 39,
   "metadata": {},
   "outputs": [],
   "source": [
    "# Splitting the data into sets\n",
    "\n",
    "# creates permutation of all indices\n",
    "\n",
    "idx = np.random.permutation(x.shape[0]) \n",
    "\n",
    "train_split_idx = int(0.8 * x.shape[0])\n",
    "val_split_idx = int(0.9 * x.shape[0])\n",
    "\n",
    "train_idx = idx[:train_split_idx]\n",
    "val_idx = idx[train_split_idx:val_split_idx]\n",
    "test_idx = idx[val_split_idx:]\n",
    "\n",
    "# Select the examples from x and y to construct our training, validation \n",
    "# and testing sets\n",
    "\n",
    "x_train, y_train = x[train_idx, :], y[train_idx]\n",
    "x_val, y_val = x[val_idx, :], y[val_idx]\n",
    "x_test, y_test = x[test_idx, :], y[test_idx]"
   ]
  },
  {
   "cell_type": "code",
   "execution_count": 40,
   "metadata": {},
   "outputs": [
    {
     "name": "stdout",
     "output_type": "stream",
     "text": [
      "0.6111111111111112\n",
      "0.6111111111111112\n",
      "0.6111111111111112\n",
      "0.6111111111111112\n",
      "0.6111111111111112\n",
      "0.6111111111111112\n",
      "0.6111111111111112\n"
     ]
    }
   ],
   "source": [
    "# Scikit-learn's perceptron model can already handle multiple classes\n",
    "# We can simply use it to train a model for wine classification\n",
    "\n",
    "# Train-Val Loop\n",
    "\n",
    "models = []\n",
    "scores = []\n",
    "\n",
    "for tol in [0.001, 0.005, 0.01, 0.05, 0.1, 0.5, 1]:\n",
    "    model = Perceptron(penalty = None, alpha = 0.0, tol = tol)\n",
    "    model.fit(x_train, y_train)\n",
    "    \n",
    "    models.append(model)\n",
    "    # Predict the class/labels\n",
    "    predictions_val = model.predict(x_val)\n",
    "    \n",
    "    # Check our accuracy\n",
    "    score = model.score(x_val, y_val)\n",
    "    scores.append(score)\n",
    "    \n",
    "    print(score)"
   ]
  },
  {
   "cell_type": "code",
   "execution_count": 41,
   "metadata": {},
   "outputs": [
    {
     "name": "stdout",
     "output_type": "stream",
     "text": [
      "0.5555555555555556\n",
      "0.5555555555555556\n",
      "0.5555555555555556\n",
      "0.5555555555555556\n",
      "0.5555555555555556\n",
      "0.5555555555555556\n",
      "0.5555555555555556\n"
     ]
    }
   ],
   "source": [
    "# Test Loop\n",
    "\n",
    "for model in models:\n",
    "    score = model.score(x_test, y_test)\n",
    "    print(score)"
   ]
  }
 ],
 "metadata": {
  "kernelspec": {
   "display_name": "Python 3",
   "language": "python",
   "name": "python3"
  },
  "language_info": {
   "codemirror_mode": {
    "name": "ipython",
    "version": 3
   },
   "file_extension": ".py",
   "mimetype": "text/x-python",
   "name": "python",
   "nbconvert_exporter": "python",
   "pygments_lexer": "ipython3",
   "version": "3.7.9"
  }
 },
 "nbformat": 4,
 "nbformat_minor": 4
}
