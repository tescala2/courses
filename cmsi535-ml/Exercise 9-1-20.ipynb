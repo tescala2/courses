{
 "cells": [
  {
   "cell_type": "code",
   "execution_count": 1,
   "metadata": {},
   "outputs": [],
   "source": [
    "import numpy as np\n",
    "import sklearn.datasets as skdata"
   ]
  },
  {
   "cell_type": "markdown",
   "metadata": {},
   "source": [
    "# Boston Housing"
   ]
  },
  {
   "cell_type": "code",
   "execution_count": 2,
   "metadata": {},
   "outputs": [],
   "source": [
    "boston_housing_data = skdata.load_boston()"
   ]
  },
  {
   "cell_type": "code",
   "execution_count": 3,
   "metadata": {},
   "outputs": [],
   "source": [
    "# Load data ss NumPy arrays\n",
    "feature_names = boston_housing_data.feature_names\n",
    "x = boston_housing_data.data\n",
    "y = boston_housing_data.target"
   ]
  },
  {
   "cell_type": "code",
   "execution_count": 4,
   "metadata": {},
   "outputs": [
    {
     "name": "stdout",
     "output_type": "stream",
     "text": [
      "(506, 13)\n",
      "(506,)\n"
     ]
    }
   ],
   "source": [
    "# Look at the shape of the data\n",
    "print(x.shape)\n",
    "print(y.shape)"
   ]
  },
  {
   "cell_type": "code",
   "execution_count": 5,
   "metadata": {},
   "outputs": [
    {
     "name": "stdout",
     "output_type": "stream",
     "text": [
      "CRIM: 0.00632\n",
      "ZN: 18.0\n",
      "INDUS: 2.31\n",
      "CHAS: 0.0\n",
      "NOX: 0.538\n",
      "RM: 6.575\n",
      "AGE: 65.2\n",
      "DIS: 4.09\n",
      "RAD: 1.0\n",
      "TAX: 296.0\n",
      "PTRATIO: 15.3\n",
      "B: 396.9\n",
      "LSTAT: 4.98\n"
     ]
    }
   ],
   "source": [
    "# Select the first sample and print its name and value in each line\n",
    "for value, name in zip(x[0, ...], feature_names):\n",
    "    print('{}: {}'.format(name, value))"
   ]
  },
  {
   "cell_type": "code",
   "execution_count": 11,
   "metadata": {},
   "outputs": [
    {
     "name": "stdout",
     "output_type": "stream",
     "text": [
      "label: 24.0\n"
     ]
    }
   ],
   "source": [
    "# To see its grroundtruth label\n",
    "print('label: {}'.format(y[0]))"
   ]
  },
  {
   "cell_type": "code",
   "execution_count": 7,
   "metadata": {},
   "outputs": [],
   "source": [
    "'''Split the data into train (80%), validation (10%), and testing (10%) sets'''\n",
    "\n",
    "idx = np.random.permutation(x.shape[0]) # creates permutation of all indices\n",
    "\n",
    "train_split_idx = int(0.8 * x.shape[0])\n",
    "val_split_idx = int(0.9 * x.shape[0])\n",
    "\n",
    "train_idx = idx[:train_split_idx]\n",
    "val_idx = idx[train_split_idx:val_split_idx]\n",
    "test_idx = idx[val_split_idx:]"
   ]
  },
  {
   "cell_type": "code",
   "execution_count": 8,
   "metadata": {},
   "outputs": [
    {
     "name": "stdout",
     "output_type": "stream",
     "text": [
      "(404,)\n",
      "(51,)\n",
      "(51,)\n"
     ]
    }
   ],
   "source": [
    "print(train_idx.shape)\n",
    "print(val_idx.shape)\n",
    "print(test_idx.shape)"
   ]
  },
  {
   "cell_type": "code",
   "execution_count": 9,
   "metadata": {},
   "outputs": [],
   "source": [
    "# Select the examples from x and y to construct our train, validation, and test sets\n",
    "\n",
    "x_train, y_train = x[train_idx, :], y[train_idx]\n",
    "x_val, y_val = x[val_idx, :], y[val_idx]\n",
    "x_test, y_test = x[test_idx, :], y[test_idx]"
   ]
  },
  {
   "cell_type": "markdown",
   "metadata": {},
   "source": [
    "# Breast Cancer"
   ]
  },
  {
   "cell_type": "code",
   "execution_count": 10,
   "metadata": {},
   "outputs": [],
   "source": [
    "breast_cancer_data = skdata.load_breast_cancer()"
   ]
  },
  {
   "cell_type": "code",
   "execution_count": 12,
   "metadata": {},
   "outputs": [],
   "source": [
    "# Load data ss NumPy arrays\n",
    "feature_names = breast_cancer_data.feature_names\n",
    "x = breast_cancer_data.data\n",
    "y = breast_cancer_data.target"
   ]
  },
  {
   "cell_type": "code",
   "execution_count": 13,
   "metadata": {},
   "outputs": [
    {
     "name": "stdout",
     "output_type": "stream",
     "text": [
      "(569, 30)\n",
      "(569,)\n"
     ]
    }
   ],
   "source": [
    "# Look at the shape of the data\n",
    "print(x.shape)\n",
    "print(y.shape)"
   ]
  },
  {
   "cell_type": "code",
   "execution_count": 14,
   "metadata": {},
   "outputs": [
    {
     "name": "stdout",
     "output_type": "stream",
     "text": [
      "mean radius: 17.99\n",
      "mean texture: 10.38\n",
      "mean perimeter: 122.8\n",
      "mean area: 1001.0\n",
      "mean smoothness: 0.1184\n",
      "mean compactness: 0.2776\n",
      "mean concavity: 0.3001\n",
      "mean concave points: 0.1471\n",
      "mean symmetry: 0.2419\n",
      "mean fractal dimension: 0.07871\n",
      "radius error: 1.095\n",
      "texture error: 0.9053\n",
      "perimeter error: 8.589\n",
      "area error: 153.4\n",
      "smoothness error: 0.006399\n",
      "compactness error: 0.04904\n",
      "concavity error: 0.05373\n",
      "concave points error: 0.01587\n",
      "symmetry error: 0.03003\n",
      "fractal dimension error: 0.006193\n",
      "worst radius: 25.38\n",
      "worst texture: 17.33\n",
      "worst perimeter: 184.6\n",
      "worst area: 2019.0\n",
      "worst smoothness: 0.1622\n",
      "worst compactness: 0.6656\n",
      "worst concavity: 0.7119\n",
      "worst concave points: 0.2654\n",
      "worst symmetry: 0.4601\n",
      "worst fractal dimension: 0.1189\n"
     ]
    }
   ],
   "source": [
    "# Select the first sample and print its name and value in each line\n",
    "for value, name in zip(x[0, ...], feature_names):\n",
    "    print('{}: {}'.format(name, value))"
   ]
  },
  {
   "cell_type": "code",
   "execution_count": 15,
   "metadata": {},
   "outputs": [],
   "source": [
    "'''Split the data into train (90%), validation (5%), and testing (5%) sets'''\n",
    "\n",
    "idx = np.random.permutation(x.shape[0]) # creates permutation of all indices\n",
    "\n",
    "train_split_idx = int(0.9 * x.shape[0])\n",
    "val_split_idx = int(0.95 * x.shape[0])\n",
    "\n",
    "train_idx = idx[:train_split_idx]\n",
    "val_idx = idx[train_split_idx:val_split_idx]\n",
    "test_idx = idx[val_split_idx:]"
   ]
  },
  {
   "cell_type": "code",
   "execution_count": 16,
   "metadata": {},
   "outputs": [
    {
     "name": "stdout",
     "output_type": "stream",
     "text": [
      "(512,)\n",
      "(28,)\n",
      "(29,)\n"
     ]
    }
   ],
   "source": [
    "print(train_idx.shape)\n",
    "print(val_idx.shape)\n",
    "print(test_idx.shape)"
   ]
  },
  {
   "cell_type": "code",
   "execution_count": 17,
   "metadata": {},
   "outputs": [],
   "source": [
    "# Select the examples from x and y to construct our train, validation, and test sets\n",
    "\n",
    "x_train, y_train = x[train_idx, :], y[train_idx]\n",
    "x_val, y_val = x[val_idx, :], y[val_idx]\n",
    "x_test, y_test = x[test_idx, :], y[test_idx]"
   ]
  }
 ],
 "metadata": {
  "kernelspec": {
   "display_name": "Python 3",
   "language": "python",
   "name": "python3"
  },
  "language_info": {
   "codemirror_mode": {
    "name": "ipython",
    "version": 3
   },
   "file_extension": ".py",
   "mimetype": "text/x-python",
   "name": "python",
   "nbconvert_exporter": "python",
   "pygments_lexer": "ipython3",
   "version": "3.7.9"
  }
 },
 "nbformat": 4,
 "nbformat_minor": 2
}
