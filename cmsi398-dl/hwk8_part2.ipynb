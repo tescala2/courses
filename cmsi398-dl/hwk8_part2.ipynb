{
 "cells": [
  {
   "cell_type": "markdown",
   "metadata": {},
   "source": [
    "# Problem 2 "
   ]
  },
  {
   "cell_type": "markdown",
   "metadata": {},
   "source": [
    "###  Redo problem 1  but this time use Pytorch. You need to create a convolutional module with the desired weights. Set the bias to False. Then create the input image, feed it to the convolutional module and check that you obtain the same result than the one you computed by hand in the previous problem. \n",
    "\n",
    "\n",
    "* Hint 1: Use the command torch.stack() in order to build the input image and the filters. \n",
    "* Hint 2: You will need the command nn.Parameter() in order to convert tensors to parameters. \n",
    "* Hint 3: Don't forget that Pytorch only work with batch. So here you are going to do a batch of 1 image. Use the command view() in order to deal with this. \n"
   ]
  },
  {
   "cell_type": "code",
   "execution_count": 1,
   "metadata": {},
   "outputs": [],
   "source": [
    "import torch\n",
    "import torch.nn as nn\n",
    "\n",
    "conv = nn.Conv2d(2, 2, kernel_size = 2, bias = False)"
   ]
  },
  {
   "cell_type": "code",
   "execution_count": 2,
   "metadata": {},
   "outputs": [
    {
     "name": "stdout",
     "output_type": "stream",
     "text": [
      "tensor([[[4., 3., 2., 1.],\n",
      "         [3., 2., 1., 2.],\n",
      "         [2., 1., 2., 3.],\n",
      "         [1., 2., 3., 4.]],\n",
      "\n",
      "        [[1., 2., 3., 4.],\n",
      "         [2., 1., 2., 3.],\n",
      "         [3., 2., 1., 2.],\n",
      "         [1., 3., 2., 1.]]])\n",
      "Parameter containing:\n",
      "tensor([[[[ 0.,  1.],\n",
      "          [ 1.,  0.]],\n",
      "\n",
      "         [[ 1.,  0.],\n",
      "          [ 0.,  1.]]],\n",
      "\n",
      "\n",
      "        [[[ 0.,  1.],\n",
      "          [-1.,  0.]],\n",
      "\n",
      "         [[ 2.,  0.],\n",
      "          [ 0., -1.]]]], requires_grad=True)\n"
     ]
    }
   ],
   "source": [
    "im_ch1 = torch.Tensor([[4,3,2,1],[3,2,1,2],[2,1,2,3],[1,2,3,4]])\n",
    "im_ch2 = torch.Tensor([[1,2,3,4],[2,1,2,3],[3,2,1,2],[1,3,2,1]])\n",
    "im = torch.stack([im_ch1, im_ch2], dim = 0)\n",
    "print(im)\n",
    "\n",
    "fil1_ch1 = torch.Tensor([[0,1],[1,0]])\n",
    "fil1_ch2 = torch.Tensor([[1,0],[0,1]])\n",
    "fil1 = torch.stack([fil1_ch1, fil1_ch2], dim = 0)\n",
    "\n",
    "fil2_ch1 = torch.Tensor([[0,1],[-1,0]])\n",
    "fil2_ch2 = torch.Tensor([[2,0],[0,-1]])\n",
    "fil2 = torch.stack([fil2_ch1, fil2_ch2])\n",
    "\n",
    "fil = torch.stack([fil1, fil2], dim = 0)\n",
    "p_fil = nn.Parameter(fil)\n",
    "print(p_fil)"
   ]
  },
  {
   "cell_type": "code",
   "execution_count": 3,
   "metadata": {},
   "outputs": [
    {
     "name": "stdout",
     "output_type": "stream",
     "text": [
      "Parameter containing:\n",
      "tensor([[[[ 0.3508,  0.2979],\n",
      "          [ 0.1527,  0.1362]],\n",
      "\n",
      "         [[ 0.1233, -0.1369],\n",
      "          [-0.1777,  0.2799]]],\n",
      "\n",
      "\n",
      "        [[[-0.1040,  0.0814],\n",
      "          [ 0.2097,  0.2050]],\n",
      "\n",
      "         [[ 0.2400,  0.2111],\n",
      "          [ 0.0511, -0.1924]]]], requires_grad=True)\n",
      "Parameter containing:\n",
      "tensor([[[[ 0.,  1.],\n",
      "          [ 1.,  0.]],\n",
      "\n",
      "         [[ 1.,  0.],\n",
      "          [ 0.,  1.]]],\n",
      "\n",
      "\n",
      "        [[[ 0.,  1.],\n",
      "          [-1.,  0.]],\n",
      "\n",
      "         [[ 2.,  0.],\n",
      "          [ 0., -1.]]]], requires_grad=True)\n"
     ]
    }
   ],
   "source": [
    "print(conv.weight)\n",
    "conv.weight = p_fil\n",
    "print(conv.weight)\n",
    "mod = conv(im.view(1,2,4,4))"
   ]
  },
  {
   "cell_type": "code",
   "execution_count": 4,
   "metadata": {},
   "outputs": [
    {
     "name": "stdout",
     "output_type": "stream",
     "text": [
      "tensor([[[[8., 8., 8.],\n",
      "          [8., 4., 8.],\n",
      "          [8., 8., 8.]],\n",
      "\n",
      "         [[1., 2., 3.],\n",
      "          [2., 1., 2.],\n",
      "          [3., 2., 1.]]]], grad_fn=<MkldnnConvolutionBackward>)\n"
     ]
    }
   ],
   "source": [
    "print(mod)"
   ]
  },
  {
   "cell_type": "code",
   "execution_count": null,
   "metadata": {},
   "outputs": [],
   "source": []
  }
 ],
 "metadata": {
  "kernelspec": {
   "display_name": "Python 3",
   "language": "python",
   "name": "python3"
  },
  "language_info": {
   "codemirror_mode": {
    "name": "ipython",
    "version": 3
   },
   "file_extension": ".py",
   "mimetype": "text/x-python",
   "name": "python",
   "nbconvert_exporter": "python",
   "pygments_lexer": "ipython3",
   "version": "3.7.4"
  }
 },
 "nbformat": 4,
 "nbformat_minor": 2
}
