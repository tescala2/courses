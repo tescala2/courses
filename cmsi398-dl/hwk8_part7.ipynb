{
 "cells": [
  {
   "cell_type": "markdown",
   "metadata": {
    "nbpresent": {
     "id": "5db5cfa7-0ad9-4ba6-8f1e-fca7e192fb37"
    }
   },
   "source": [
    "# HWK7 PROBLEM 7"
   ]
  },
  {
   "cell_type": "markdown",
   "metadata": {
    "nbpresent": {
     "id": "0fe0292b-e598-42da-997f-910522119a4a"
    }
   },
   "source": [
    "### Your goal is to train a convnet with multiple layers on fashion-MNIST and to obtain the lowest error rate possible on the test set. Try various hyperparameter (number of layers, hidden_sizes, etc...). Good luck!"
   ]
  },
  {
   "cell_type": "code",
   "execution_count": 1,
   "metadata": {
    "nbpresent": {
     "id": "0d0d8ece-1966-483e-8885-4d3f0234c311"
    }
   },
   "outputs": [],
   "source": [
    "import torch\n",
    "import torch.nn as nn\n",
    "import torch.nn.functional as F\n",
    "import torch.optim as optim\n",
    "from random import randint\n",
    "import utils\n",
    "import time"
   ]
  },
  {
   "cell_type": "code",
   "execution_count": 2,
   "metadata": {
    "nbpresent": {
     "id": "d5d0e44a-dcc9-4bd6-963a-22d1d81e58e9"
    }
   },
   "outputs": [
    {
     "name": "stdout",
     "output_type": "stream",
     "text": [
      "torch.Size([60000, 28, 28])\n",
      "torch.Size([10000, 28, 28])\n"
     ]
    }
   ],
   "source": [
    "train_data=torch.load('../../data/fashion-mnist/train_data.pt')\n",
    "train_label=torch.load('../../data/fashion-mnist/train_label.pt')\n",
    "test_data=torch.load('../../data/fashion-mnist/test_data.pt')\n",
    "test_label=torch.load('../../data/fashion-mnist/test_label.pt')\n",
    "print(train_data.size())\n",
    "print(test_data.size())"
   ]
  },
  {
   "cell_type": "code",
   "execution_count": 3,
   "metadata": {
    "nbpresent": {
     "id": "bf9d5f45-51ec-4561-b30d-47167210c045"
    }
   },
   "outputs": [],
   "source": [
    "class convnet(nn.Module):\n",
    "    def __init__(self):\n",
    "        super().__init__()\n",
    "        # block 1 - 1x28x28 to __x14x14\n",
    "        self.conv1a = nn.Conv2d(1, 56, kernel_size = 3, padding = 1)\n",
    "        self.conv1b = nn.Conv2d(56, 56, kernel_size = 3, padding = 1)\n",
    "        self.pool1 = nn.MaxPool2d(2,2)\n",
    "        \n",
    "        # block 2 - __x14x14 to __x7x7\n",
    "        self.conv2a = nn.Conv2d(56, 224, kernel_size = 3, padding = 1)\n",
    "        self.conv2b = nn.Conv2d(224, 224, kernel_size = 3, padding = 1)\n",
    "        self.pool2 = nn.MaxPool2d(2,2)\n",
    "        \n",
    "        # block 3\n",
    "        self.conv3a = nn.Conv2d(224, 896, kernel_size = 3, padding = 1)\n",
    "        self.pool3 = nn.MaxPool2d(7,7)\n",
    "        \n",
    "        # linear layers - \n",
    "        self.linear1 = nn.Linear(896, 2000)\n",
    "        self.linear2 = nn.Linear(2000, 10)\n",
    "        \n",
    "    def forward(self, x):\n",
    "        # block 1\n",
    "        x = self.conv1a(x)\n",
    "        x = F.relu(x)\n",
    "        x = self.conv1b(x)\n",
    "        x = F.relu(x)\n",
    "        x = self.pool1(x)\n",
    "        \n",
    "        # block 2\n",
    "        x = self.conv2a(x)\n",
    "        x = F.relu(x)\n",
    "        x = self.conv2b(x)\n",
    "        x = F.relu(x)\n",
    "        x = self.pool2(x)\n",
    "        \n",
    "        # block 3\n",
    "        x = self.conv3a(x)\n",
    "        x = F.relu(x)\n",
    "        x = self.pool3(x)\n",
    "        \n",
    "        # linear layers\n",
    "        x = x.view(-1,896)\n",
    "        x = self.linear1(x)\n",
    "        x = F.relu(x)\n",
    "        scores = self.linear2(x)\n",
    "        \n",
    "        return scores"
   ]
  },
  {
   "cell_type": "code",
   "execution_count": 4,
   "metadata": {
    "nbpresent": {
     "id": "6ee0d054-c9c0-4aa3-a42f-1a3f4b5c9c0a"
    }
   },
   "outputs": [
    {
     "name": "stdout",
     "output_type": "stream",
     "text": [
      "There are 4215010 (4.22 million) parameters in this neural network\n"
     ]
    }
   ],
   "source": [
    "device = torch.device(\"cuda\")\n",
    "net = convnet()\n",
    "\n",
    "utils.display_num_param(net)\n",
    "net = net.to(device)\n",
    "\n",
    "mean = train_data.mean()\n",
    "std = train_data.std()\n",
    "mean = mean.to(device)\n",
    "std = std.to(device)"
   ]
  },
  {
   "cell_type": "code",
   "execution_count": 5,
   "metadata": {
    "nbpresent": {
     "id": "c0fbfc3c-4d0c-4844-9d37-23bbe717990e"
    }
   },
   "outputs": [],
   "source": [
    "criterion = nn.CrossEntropyLoss()\n",
    "my_lr = 0.28\n",
    "\n",
    "bs = 100"
   ]
  },
  {
   "cell_type": "code",
   "execution_count": 6,
   "metadata": {
    "nbpresent": {
     "id": "e45c83d7-cab4-48d4-814f-6b90e8e1b3df"
    }
   },
   "outputs": [],
   "source": [
    "def eval_on_test_set():\n",
    "\n",
    "    running_error=0\n",
    "    num_batches=0\n",
    "    \n",
    "    with torch.no_grad():\n",
    "\n",
    "        for i in range(0,10000,bs):\n",
    "\n",
    "            minibatch_data =  test_data[i:i+bs]\n",
    "            minibatch_label = test_label[i:i+bs]\n",
    "            \n",
    "            minibatch_data = minibatch_data.to(device)\n",
    "            minibatch_label = minibatch_label.to(device)\n",
    "\n",
    "            inputs = (minibatch_data - mean)/std\n",
    "\n",
    "            scores = net(inputs.view(bs,1,28,28)) \n",
    "\n",
    "            error = utils.get_error(scores , minibatch_label)\n",
    "\n",
    "            running_error += error.item()\n",
    "\n",
    "            num_batches+=1\n",
    "\n",
    "\n",
    "    total_error = running_error/num_batches\n",
    "    print( 'test error  = ', total_error*100,'percent')"
   ]
  },
  {
   "cell_type": "code",
   "execution_count": 7,
   "metadata": {
    "nbpresent": {
     "id": "13767d97-74e1-4276-a6bb-9811cfeee42f"
    }
   },
   "outputs": [
    {
     "name": "stdout",
     "output_type": "stream",
     "text": [
      " \n",
      "epoch= 0 \t time= 21.10438346862793 \t loss= 1.050669418896238 \t error= 39.070001532634095 percent\n",
      "test error  =  17.210001826286316 percent\n",
      " \n",
      "epoch= 1 \t time= 43.23625946044922 \t loss= 0.3580342998852332 \t error= 13.446668714284895 percent\n",
      "test error  =  14.27000218629837 percent\n",
      " \n",
      "epoch= 2 \t time= 65.55840349197388 \t loss= 0.27619029181698956 \t error= 10.450002074241638 percent\n",
      "test error  =  10.45000171661377 percent\n",
      " \n",
      "epoch= 3 \t time= 87.81878185272217 \t loss= 0.23054040390998126 \t error= 8.731668422619501 percent\n",
      "test error  =  8.840002059936523 percent\n",
      " \n",
      "epoch= 4 \t time= 110.02020215988159 \t loss= 0.19973710803935926 \t error= 7.493335028489431 percent\n",
      "test error  =  9.080002129077911 percent\n",
      " \n",
      "epoch= 5 \t time= 132.31347465515137 \t loss= 0.17296793062239885 \t error= 6.5500016907850895 percent\n",
      "test error  =  9.160001814365387 percent\n",
      " \n",
      "epoch= 6 \t time= 154.6114354133606 \t loss= 0.15360305507977803 \t error= 5.750001887480418 percent\n",
      "test error  =  7.65000206232071 percent\n",
      " \n",
      "epoch= 7 \t time= 176.89731192588806 \t loss= 0.11024619666549067 \t error= 4.14666893084844 percent\n",
      "test error  =  7.090001463890077 percent\n",
      " \n",
      "epoch= 8 \t time= 199.12689971923828 \t loss= 0.09501737692393362 \t error= 3.6200024882952375 percent\n",
      "test error  =  7.110001564025879 percent\n",
      " \n",
      "epoch= 9 \t time= 221.3884241580963 \t loss= 0.0795579352035808 \t error= 3.063336183627446 percent\n",
      "test error  =  7.20000171661377 percent\n",
      " \n",
      "epoch= 10 \t time= 243.67212462425232 \t loss= 0.04535836641249868 \t error= 1.6350031296412149 percent\n",
      "test error  =  6.710001468658447 percent\n",
      " \n",
      "epoch= 11 \t time= 265.9927234649658 \t loss= 0.033691843994311056 \t error= 1.1816695630550385 percent\n",
      "test error  =  6.930001616477967 percent\n",
      " \n",
      "epoch= 12 \t time= 288.31410479545593 \t loss= 0.014388047648147525 \t error= 0.43000171581904095 percent\n",
      "test error  =  6.770001828670502 percent\n",
      " \n",
      "epoch= 13 \t time= 310.62009596824646 \t loss= 0.007300748379493598 \t error= 0.176667461792628 percent\n",
      "test error  =  6.730001747608185 percent\n",
      " \n",
      "epoch= 14 \t time= 332.93583130836487 \t loss= 0.003732765027076918 \t error= 0.05166690548261007 percent\n",
      "test error  =  6.820001900196075 percent\n",
      " \n",
      "epoch= 15 \t time= 355.2426846027374 \t loss= 0.0016547446388540266 \t error= 0.006666700045267741 percent\n",
      "test error  =  6.640001952648163 percent\n",
      " \n",
      "epoch= 16 \t time= 377.55976819992065 \t loss= 0.000710554879836612 \t error= 0.0016666750113169353 percent\n",
      "test error  =  6.690001845359802 percent\n",
      " \n",
      "epoch= 17 \t time= 399.88182735443115 \t loss= 0.00042523535867379297 \t error= 0.0 percent\n",
      "test error  =  6.690001904964447 percent\n",
      " \n",
      "epoch= 18 \t time= 422.2292537689209 \t loss= 0.0003147460622979755 \t error= 0.0 percent\n",
      "test error  =  6.550001800060272 percent\n",
      " \n",
      "epoch= 19 \t time= 444.59792304039 \t loss= 0.00024852232879917814 \t error= 0.0 percent\n",
      "test error  =  6.580001890659331 percent\n"
     ]
    }
   ],
   "source": [
    "start = time.time()\n",
    "\n",
    "for epoch in range(20):\n",
    "    \n",
    "    if epoch == 7 or epoch == 10 or epoch == 12:\n",
    "        my_lr = my_lr * 0.65\n",
    "        \n",
    "    optimizer=torch.optim.SGD( net.parameters() , lr=my_lr )\n",
    "    \n",
    "    running_loss=0\n",
    "    running_error=0\n",
    "    num_batches=0\n",
    "    \n",
    "    shuffled_indices=torch.randperm(60000)\n",
    " \n",
    "    for count in range(0,60000,bs):\n",
    "    \n",
    "        optimizer.zero_grad()\n",
    "        \n",
    "        indices=shuffled_indices[count:count+bs]\n",
    "        minibatch_data =  train_data[indices]\n",
    "        minibatch_label= train_label[indices]\n",
    "        \n",
    "        minibatch_data = minibatch_data.to(device)\n",
    "        minibatch_label = minibatch_label.to(device)\n",
    "\n",
    "        inputs = (minibatch_data - mean)/std\n",
    "\n",
    "        inputs.requires_grad_(True)\n",
    "\n",
    "        scores = net(inputs.view(bs,1,28,28)) \n",
    "\n",
    "        loss =  criterion(scores, minibatch_label) \n",
    "        \n",
    "        loss.backward()\n",
    "\n",
    "        optimizer.step()\n",
    "        \n",
    "        \n",
    "        # compute some stats\n",
    "        \n",
    "        num_batches+=1\n",
    "        \n",
    "        with torch.no_grad():\n",
    "            \n",
    "            running_loss += loss.item()\n",
    "\n",
    "            error = utils.get_error(scores , minibatch_label)\n",
    "            running_error += error.item() \n",
    "    \n",
    "    \n",
    "    # once the epoch is finished we divide the \"running quantities\"\n",
    "    # by the number of batches\n",
    "    \n",
    "    total_loss = running_loss/num_batches\n",
    "    total_error = running_error/num_batches\n",
    "    elapsed_time = time.time() - start\n",
    "    \n",
    "    # every 1 epoch we display the stats \n",
    "    # and compute the error rate on the test set  \n",
    "    \n",
    "    if epoch % 1 == 0: \n",
    "    \n",
    "        print(' ')\n",
    "        \n",
    "        print('epoch=',epoch, '\\t time=', elapsed_time,\n",
    "              '\\t loss=', total_loss , '\\t error=', total_error*100 ,'percent')\n",
    "        \n",
    "        eval_on_test_set()"
   ]
  },
  {
   "cell_type": "code",
   "execution_count": null,
   "metadata": {
    "nbpresent": {
     "id": "8ed4d4fa-67b3-419f-aab8-f05fb41fd424"
    }
   },
   "outputs": [],
   "source": []
  }
 ],
 "metadata": {
  "kernelspec": {
   "display_name": "Python 3",
   "language": "python",
   "name": "python3"
  },
  "language_info": {
   "codemirror_mode": {
    "name": "ipython",
    "version": 3
   },
   "file_extension": ".py",
   "mimetype": "text/x-python",
   "name": "python",
   "nbconvert_exporter": "python",
   "pygments_lexer": "ipython3",
   "version": "3.7.4"
  }
 },
 "nbformat": 4,
 "nbformat_minor": 2
}
