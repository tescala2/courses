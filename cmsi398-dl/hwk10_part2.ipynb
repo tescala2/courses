{
 "cells": [
  {
   "cell_type": "markdown",
   "metadata": {},
   "source": [
    "# HWK10 Problem 2"
   ]
  },
  {
   "cell_type": "code",
   "execution_count": null,
   "metadata": {},
   "outputs": [],
   "source": [
    "import torch\n",
    "import torch.nn as nn"
   ]
  },
  {
   "cell_type": "markdown",
   "metadata": {},
   "source": [
    "### Make a bidirectional RNN module\n",
    "* input size:  2\n",
    "* hidden size:  2  \n",
    "* number of layers: 2\n",
    "* nonlinearity $\\sigma(x) = \\text{ReLU}(x)$.  To do this you do:  nonlinearity = 'relu'"
   ]
  },
  {
   "cell_type": "code",
   "execution_count": null,
   "metadata": {
    "scrolled": true
   },
   "outputs": [],
   "source": [
    "mod = # complete here\n",
    "print(mod)"
   ]
  },
  {
   "cell_type": "markdown",
   "metadata": {},
   "source": [
    "### Set the weights to be:\n",
    "$$ \n",
    "R= \\hat R = S =\\hat S= \\begin{bmatrix}\n",
    "1 & 0 \\\\\n",
    "0 & 1\n",
    "\\end{bmatrix} \n",
    "$$\n",
    "$$\n",
    "W= \\begin{bmatrix}\n",
    "2 & 0  \\\\\n",
    "0 & 1 \n",
    "\\end{bmatrix} \n",
    "\\quad \\hat W= \\begin{bmatrix}\n",
    "1 & 0  \\\\\n",
    "0 & 2 \n",
    "\\end{bmatrix} \n",
    "\\quad  V= \\begin{bmatrix}\n",
    "1 & 1 &1 & 1  \\\\\n",
    "0 & 0 & 0 & 1 \n",
    "\\end{bmatrix} \n",
    "\\quad  \\hat V= \\begin{bmatrix}\n",
    "0 & 1 &0 & 0  \\\\\n",
    "0 & 0 & 1 & 0 \n",
    "\\end{bmatrix} \n",
    "$$\n",
    "\n",
    "\n",
    "Recall the API:\n",
    "* mod.weight_ih_l0   (weight of the matrix to go from input to hidden at layer 0)\n",
    "* mod.weight_hh_l1_reverse   (weight of the matrix to go from hidden to hidden at layer 1 for the reverse direction)"
   ]
  },
  {
   "cell_type": "code",
   "execution_count": null,
   "metadata": {},
   "outputs": [],
   "source": [
    "# COMPLETE HERE"
   ]
  },
  {
   "cell_type": "markdown",
   "metadata": {},
   "source": [
    "### Create a sequence to be processed by the RNN:\n",
    "$$\n",
    "x_1 = \\begin{bmatrix}\n",
    "1\\\\ 0\n",
    "\\end{bmatrix}\n",
    "\\qquad\n",
    "x_2 = \\begin{bmatrix}\n",
    "0\\\\ 1\n",
    "\\end{bmatrix}\n",
    "\\qquad\n",
    "x_3 = \\begin{bmatrix}\n",
    "0\\\\ 1\n",
    "\\end{bmatrix}\n",
    "$$"
   ]
  },
  {
   "cell_type": "code",
   "execution_count": null,
   "metadata": {},
   "outputs": [],
   "source": [
    "# COMPLETE HERE"
   ]
  },
  {
   "cell_type": "markdown",
   "metadata": {},
   "source": [
    "### Put the squence in a tensor of appropriate shape:  seq_len x bs x input_size:"
   ]
  },
  {
   "cell_type": "code",
   "execution_count": null,
   "metadata": {},
   "outputs": [],
   "source": [
    "input_seq = # COMPLETE HERE"
   ]
  },
  {
   "cell_type": "code",
   "execution_count": null,
   "metadata": {},
   "outputs": [],
   "source": [
    "print(input_seq)\n",
    "print(input_seq.size())"
   ]
  },
  {
   "cell_type": "markdown",
   "metadata": {},
   "source": [
    "### Feed the sequence to the rnn"
   ]
  },
  {
   "cell_type": "code",
   "execution_count": null,
   "metadata": {},
   "outputs": [],
   "source": [
    "# COMPLETE HERE"
   ]
  },
  {
   "cell_type": "markdown",
   "metadata": {},
   "source": [
    "### Print the last hidden state "
   ]
  },
  {
   "cell_type": "code",
   "execution_count": null,
   "metadata": {},
   "outputs": [],
   "source": [
    "print(h_last)\n",
    "print(h_last.size())"
   ]
  },
  {
   "cell_type": "markdown",
   "metadata": {},
   "source": [
    "### Print all the hidden states from the last layer:"
   ]
  },
  {
   "cell_type": "code",
   "execution_count": null,
   "metadata": {},
   "outputs": [],
   "source": [
    "print(output_seq)\n",
    "print(output_seq.size())"
   ]
  }
 ],
 "metadata": {
  "kernelspec": {
   "display_name": "Python 3",
   "language": "python",
   "name": "python3"
  },
  "language_info": {
   "codemirror_mode": {
    "name": "ipython",
    "version": 3
   },
   "file_extension": ".py",
   "mimetype": "text/x-python",
   "name": "python",
   "nbconvert_exporter": "python",
   "pygments_lexer": "ipython3",
   "version": "3.7.1"
  }
 },
 "nbformat": 4,
 "nbformat_minor": 2
}
