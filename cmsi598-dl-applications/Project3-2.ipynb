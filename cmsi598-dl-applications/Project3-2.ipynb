{
 "cells": [
  {
   "cell_type": "code",
   "execution_count": 1,
   "metadata": {},
   "outputs": [],
   "source": [
    "import numpy as np\n",
    "import matplotlib.pyplot as plt\n",
    "import pandas as pd\n",
    "import random\n",
    "import sklearn\n",
    "\n",
    "import tensorflow as tf\n",
    "import tensorflow.keras as keras"
   ]
  },
  {
   "cell_type": "code",
   "execution_count": 2,
   "metadata": {},
   "outputs": [],
   "source": [
    "x_train = np.load('x_train.npy')\n",
    "y_train = np.load('y_train.npy')"
   ]
  },
  {
   "cell_type": "code",
   "execution_count": 3,
   "metadata": {},
   "outputs": [],
   "source": [
    "x_test = np.load('x_test.npy')\n",
    "y_test = np.load('y_test.npy')"
   ]
  },
  {
   "cell_type": "code",
   "execution_count": 4,
   "metadata": {},
   "outputs": [],
   "source": [
    "x_train_reshape = x_train.reshape(x_train.shape[0]*x_train.shape[1], x_train.shape[2])"
   ]
  },
  {
   "cell_type": "code",
   "execution_count": 5,
   "metadata": {},
   "outputs": [],
   "source": [
    "y_train_reshape = y_train.reshape(5000,523,1)"
   ]
  },
  {
   "cell_type": "code",
   "execution_count": 6,
   "metadata": {},
   "outputs": [],
   "source": [
    "y_test_reshape = y_test.reshape(y_test.shape[0]*y_test.shape[1], y_test.shape[2],1)"
   ]
  },
  {
   "cell_type": "code",
   "execution_count": 7,
   "metadata": {},
   "outputs": [],
   "source": [
    "# Isolate validation data\n",
    "# Create a list of random integers between 0 and 5,000\n",
    "num_val_samples = 1000\n",
    "\n",
    "shuffle_indices = random.sample(range(0,5000), num_val_samples)\n",
    "\n",
    "# Train images with random indices become new validation set\n",
    "x_val = x_train[shuffle_indices]\n",
    "y_val = y_train_reshape[shuffle_indices]\n",
    "\n",
    "# Remove the validation set from the training set \n",
    "x_train = np.delete(x_train, shuffle_indices, axis=0)\n",
    "y_train_reshape = np.delete(y_train_reshape, shuffle_indices, axis=0)"
   ]
  },
  {
   "cell_type": "code",
   "execution_count": null,
   "metadata": {},
   "outputs": [],
   "source": [
    "max_features = 523"
   ]
  },
  {
   "cell_type": "code",
   "execution_count": null,
   "metadata": {},
   "outputs": [],
   "source": [
    "from tensorflow.keras import layers\n",
    "from tensorflow.keras import models\n",
    "\n",
    "model = models.Sequential()\n",
    "#model.add(layers.Embedding(max_features, 128))\n",
    "# Size is num (timesteps, features)\n",
    "model.add(layers.LSTM(128, input_shape=(523,265), return_sequences=True))\n",
    "model.add(layers.Dense(1, activation='sigmoid'))\n",
    "model.compile(optimizer='rmsprop', loss='binary_crossentropy', metrics = ['acc'])\n",
    "\n",
    "history_mat = []\n",
    "counter = 0\n",
    "#for encounter in range(len()):\n",
    "history = model.fit(x_train, y_train_reshape, epochs=100, batch_size=1, \n",
    "                    validation_split=0.2)\n",
    "#    counter += 1\n",
    "#    print('Encounter: ', counter)\n",
    "#    history_mat.append(history)"
   ]
  },
  {
   "cell_type": "code",
   "execution_count": null,
   "metadata": {},
   "outputs": [],
   "source": [
    "model.evaluate(x_test, y_test_reshape)"
   ]
  },
  {
   "cell_type": "code",
   "execution_count": 8,
   "metadata": {},
   "outputs": [
    {
     "name": "stdout",
     "output_type": "stream",
     "text": [
      "Train on 4000 samples, validate on 1000 samples\n",
      "Epoch 1/100\n",
      "4000/4000 [==============================] - 32s 8ms/sample - loss: 0.3877 - acc: 0.9378 - val_loss: 0.1620 - val_acc: 0.9540\n",
      "Epoch 2/100\n",
      "4000/4000 [==============================] - 30s 7ms/sample - loss: 0.1583 - acc: 0.9573 - val_loss: 0.1603 - val_acc: 0.9552\n",
      "Epoch 3/100\n",
      "4000/4000 [==============================] - 30s 8ms/sample - loss: 0.1500 - acc: 0.9576 - val_loss: 0.1628 - val_acc: 0.9554\n",
      "Epoch 4/100\n",
      "4000/4000 [==============================] - 31s 8ms/sample - loss: 0.1470 - acc: 0.9578 - val_loss: 0.1608 - val_acc: 0.9551\n",
      "Epoch 5/100\n",
      "4000/4000 [==============================] - 30s 7ms/sample - loss: 0.1437 - acc: 0.9586 - val_loss: 0.1485 - val_acc: 0.9552\n",
      "Epoch 6/100\n",
      "4000/4000 [==============================] - 30s 8ms/sample - loss: 0.1321 - acc: 0.9609 - val_loss: 0.1454 - val_acc: 0.9538\n",
      "Epoch 7/100\n",
      "4000/4000 [==============================] - 31s 8ms/sample - loss: 0.1195 - acc: 0.9593 - val_loss: 0.1194 - val_acc: 0.9558\n",
      "Epoch 8/100\n",
      "4000/4000 [==============================] - 32s 8ms/sample - loss: 0.1049 - acc: 0.9600 - val_loss: 0.1141 - val_acc: 0.9560\n",
      "Epoch 9/100\n",
      "4000/4000 [==============================] - 31s 8ms/sample - loss: 0.0974 - acc: 0.9602 - val_loss: 0.1116 - val_acc: 0.9567\n",
      "Epoch 10/100\n",
      "4000/4000 [==============================] - 30s 7ms/sample - loss: 0.0914 - acc: 0.9703 - val_loss: 0.1023 - val_acc: 0.9702\n",
      "Epoch 11/100\n",
      "4000/4000 [==============================] - 29s 7ms/sample - loss: 0.0884 - acc: 0.9715 - val_loss: 0.1032 - val_acc: 0.9703\n",
      "Epoch 12/100\n",
      "4000/4000 [==============================] - 29s 7ms/sample - loss: 0.0844 - acc: 0.9721 - val_loss: 0.1058 - val_acc: 0.9704\n",
      "Epoch 13/100\n",
      "4000/4000 [==============================] - 29s 7ms/sample - loss: 0.0844 - acc: 0.9714 - val_loss: 0.1040 - val_acc: 0.9706\n",
      "Epoch 14/100\n",
      "4000/4000 [==============================] - 30s 8ms/sample - loss: 0.0827 - acc: 0.9729 - val_loss: 0.0997 - val_acc: 0.9708\n",
      "Epoch 15/100\n",
      "4000/4000 [==============================] - 29s 7ms/sample - loss: 0.0837 - acc: 0.9731 - val_loss: 0.0999 - val_acc: 0.9704\n",
      "Epoch 16/100\n",
      "4000/4000 [==============================] - 29s 7ms/sample - loss: 0.0851 - acc: 0.9721 - val_loss: 0.0965 - val_acc: 0.9716\n",
      "Epoch 17/100\n",
      "4000/4000 [==============================] - 30s 8ms/sample - loss: 0.0820 - acc: 0.9731 - val_loss: 0.0960 - val_acc: 0.9718\n",
      "Epoch 18/100\n",
      "4000/4000 [==============================] - 29s 7ms/sample - loss: 0.0771 - acc: 0.9747 - val_loss: 0.0964 - val_acc: 0.9713\n",
      "Epoch 19/100\n",
      "4000/4000 [==============================] - 29s 7ms/sample - loss: 0.0853 - acc: 0.9726 - val_loss: 0.0970 - val_acc: 0.9714\n",
      "Epoch 20/100\n",
      "4000/4000 [==============================] - 29s 7ms/sample - loss: 0.0794 - acc: 0.9746 - val_loss: 0.0951 - val_acc: 0.9719\n",
      "Epoch 21/100\n",
      "4000/4000 [==============================] - 30s 7ms/sample - loss: 0.0791 - acc: 0.9731 - val_loss: 0.0953 - val_acc: 0.9716\n",
      "Epoch 22/100\n",
      "4000/4000 [==============================] - 29s 7ms/sample - loss: 0.0781 - acc: 0.9738 - val_loss: 0.0965 - val_acc: 0.9715\n",
      "Epoch 23/100\n",
      "4000/4000 [==============================] - 28s 7ms/sample - loss: 0.0801 - acc: 0.9737 - val_loss: 0.0951 - val_acc: 0.9717\n",
      "Epoch 24/100\n",
      "4000/4000 [==============================] - 29s 7ms/sample - loss: 0.0777 - acc: 0.9748 - val_loss: 0.0984 - val_acc: 0.9715\n",
      "Epoch 25/100\n",
      "4000/4000 [==============================] - 30s 7ms/sample - loss: 0.0789 - acc: 0.9742 - val_loss: 0.0950 - val_acc: 0.9716\n",
      "Epoch 26/100\n",
      "4000/4000 [==============================] - 29s 7ms/sample - loss: 0.0780 - acc: 0.9741 - val_loss: 0.0972 - val_acc: 0.9718\n",
      "Epoch 27/100\n",
      "4000/4000 [==============================] - 29s 7ms/sample - loss: 0.0770 - acc: 0.9743 - val_loss: 0.1018 - val_acc: 0.9707\n",
      "Epoch 28/100\n",
      "4000/4000 [==============================] - 30s 7ms/sample - loss: 0.0822 - acc: 0.9732 - val_loss: 0.0946 - val_acc: 0.9718\n",
      "Epoch 29/100\n",
      "4000/4000 [==============================] - 29s 7ms/sample - loss: 0.0742 - acc: 0.9758 - val_loss: 0.0962 - val_acc: 0.9717\n",
      "Epoch 30/100\n",
      "4000/4000 [==============================] - 30s 7ms/sample - loss: 0.0750 - acc: 0.9754 - val_loss: 0.0960 - val_acc: 0.9717\n",
      "Epoch 31/100\n",
      "4000/4000 [==============================] - 29s 7ms/sample - loss: 0.0740 - acc: 0.9753 - val_loss: 0.0995 - val_acc: 0.9718\n",
      "Epoch 32/100\n",
      "4000/4000 [==============================] - 30s 7ms/sample - loss: 0.0737 - acc: 0.9746 - val_loss: 0.1050 - val_acc: 0.9713\n",
      "Epoch 33/100\n",
      "4000/4000 [==============================] - 29s 7ms/sample - loss: 0.0745 - acc: 0.9757 - val_loss: 0.1005 - val_acc: 0.9710\n",
      "Epoch 34/100\n",
      "4000/4000 [==============================] - 29s 7ms/sample - loss: 0.0720 - acc: 0.9761 - val_loss: 0.1154 - val_acc: 0.9615\n",
      "Epoch 35/100\n",
      "4000/4000 [==============================] - 30s 7ms/sample - loss: 0.0732 - acc: 0.9758 - val_loss: 0.0972 - val_acc: 0.9724\n",
      "Epoch 36/100\n",
      "4000/4000 [==============================] - 30s 8ms/sample - loss: 0.0743 - acc: 0.9755 - val_loss: 0.1077 - val_acc: 0.9717\n",
      "Epoch 37/100\n",
      "4000/4000 [==============================] - 31s 8ms/sample - loss: 0.0726 - acc: 0.9758 - val_loss: 0.1197 - val_acc: 0.9701\n",
      "Epoch 38/100\n",
      "4000/4000 [==============================] - 32s 8ms/sample - loss: 0.0710 - acc: 0.9764 - val_loss: 0.1018 - val_acc: 0.9698\n",
      "Epoch 39/100\n",
      "4000/4000 [==============================] - 31s 8ms/sample - loss: 0.0707 - acc: 0.9768 - val_loss: 0.0995 - val_acc: 0.9724\n",
      "Epoch 40/100\n",
      "4000/4000 [==============================] - 31s 8ms/sample - loss: 0.0719 - acc: 0.9760 - val_loss: 0.0965 - val_acc: 0.9724\n",
      "Epoch 41/100\n",
      "4000/4000 [==============================] - 33s 8ms/sample - loss: 0.0704 - acc: 0.9757 - val_loss: 0.0950 - val_acc: 0.9724\n",
      "Epoch 42/100\n",
      "4000/4000 [==============================] - 31s 8ms/sample - loss: 0.0715 - acc: 0.9763 - val_loss: 0.0961 - val_acc: 0.9731\n",
      "Epoch 43/100\n",
      "4000/4000 [==============================] - 31s 8ms/sample - loss: 0.0690 - acc: 0.9769 - val_loss: 0.1118 - val_acc: 0.9709\n",
      "Epoch 44/100\n",
      "4000/4000 [==============================] - 30s 8ms/sample - loss: 0.0685 - acc: 0.9772 - val_loss: 0.0989 - val_acc: 0.9725\n",
      "Epoch 45/100\n",
      "4000/4000 [==============================] - 31s 8ms/sample - loss: 0.0698 - acc: 0.9763 - val_loss: 0.1032 - val_acc: 0.9719\n",
      "Epoch 46/100\n",
      "4000/4000 [==============================] - 32s 8ms/sample - loss: 0.0680 - acc: 0.9772 - val_loss: 0.0997 - val_acc: 0.9726\n",
      "Epoch 47/100\n",
      "4000/4000 [==============================] - 32s 8ms/sample - loss: 0.0687 - acc: 0.9770 - val_loss: 0.1050 - val_acc: 0.9711\n",
      "Epoch 48/100\n",
      "4000/4000 [==============================] - 31s 8ms/sample - loss: 0.0690 - acc: 0.9771 - val_loss: 0.1082 - val_acc: 0.9714\n",
      "Epoch 49/100\n",
      "4000/4000 [==============================] - 32s 8ms/sample - loss: 0.0702 - acc: 0.9763 - val_loss: 0.1014 - val_acc: 0.9728\n",
      "Epoch 50/100\n",
      "4000/4000 [==============================] - 32s 8ms/sample - loss: 0.0701 - acc: 0.9767 - val_loss: 0.1041 - val_acc: 0.9715\n",
      "Epoch 51/100\n",
      "4000/4000 [==============================] - 31s 8ms/sample - loss: 0.0685 - acc: 0.9776 - val_loss: 0.1278 - val_acc: 0.9703\n",
      "Epoch 52/100\n",
      "4000/4000 [==============================] - 30s 8ms/sample - loss: 0.0671 - acc: 0.9773 - val_loss: 0.1131 - val_acc: 0.9719\n",
      "Epoch 53/100\n",
      "4000/4000 [==============================] - 31s 8ms/sample - loss: 0.0660 - acc: 0.9779 - val_loss: 0.0998 - val_acc: 0.9727\n",
      "Epoch 54/100\n",
      "4000/4000 [==============================] - 32s 8ms/sample - loss: 0.0723 - acc: 0.9757 - val_loss: 0.1070 - val_acc: 0.9669\n",
      "Epoch 55/100\n",
      "4000/4000 [==============================] - 32s 8ms/sample - loss: 0.0667 - acc: 0.9776 - val_loss: 0.1211 - val_acc: 0.9708\n",
      "Epoch 56/100\n",
      "4000/4000 [==============================] - 32s 8ms/sample - loss: 0.0688 - acc: 0.9778 - val_loss: 0.1005 - val_acc: 0.9726\n",
      "Epoch 57/100\n",
      "4000/4000 [==============================] - 31s 8ms/sample - loss: 0.0662 - acc: 0.9781 - val_loss: 0.1077 - val_acc: 0.9726\n",
      "Epoch 58/100\n",
      "4000/4000 [==============================] - 31s 8ms/sample - loss: 0.0722 - acc: 0.9762 - val_loss: 0.1035 - val_acc: 0.9714\n",
      "Epoch 59/100\n",
      "4000/4000 [==============================] - 32s 8ms/sample - loss: 0.0669 - acc: 0.9779 - val_loss: 0.1007 - val_acc: 0.9726\n",
      "Epoch 60/100\n",
      "4000/4000 [==============================] - 32s 8ms/sample - loss: 0.0669 - acc: 0.9777 - val_loss: 0.0973 - val_acc: 0.9729\n",
      "Epoch 61/100\n",
      "4000/4000 [==============================] - 30s 8ms/sample - loss: 0.0644 - acc: 0.9785 - val_loss: 0.1013 - val_acc: 0.9690\n",
      "Epoch 62/100\n",
      "4000/4000 [==============================] - 32s 8ms/sample - loss: 0.0679 - acc: 0.9769 - val_loss: 0.1188 - val_acc: 0.9699\n",
      "Epoch 63/100\n",
      "4000/4000 [==============================] - 31s 8ms/sample - loss: 0.0648 - acc: 0.9775 - val_loss: 0.0992 - val_acc: 0.9727\n",
      "Epoch 64/100\n",
      "4000/4000 [==============================] - 31s 8ms/sample - loss: 0.0649 - acc: 0.9782 - val_loss: 0.0985 - val_acc: 0.9724\n",
      "Epoch 65/100\n",
      "4000/4000 [==============================] - 31s 8ms/sample - loss: 0.0721 - acc: 0.9764 - val_loss: 0.1093 - val_acc: 0.9705\n",
      "Epoch 66/100\n",
      "4000/4000 [==============================] - 31s 8ms/sample - loss: 0.0638 - acc: 0.9781 - val_loss: 0.0993 - val_acc: 0.9717\n",
      "Epoch 67/100\n",
      "4000/4000 [==============================] - 31s 8ms/sample - loss: 0.0642 - acc: 0.9781 - val_loss: 0.1022 - val_acc: 0.9726\n",
      "Epoch 68/100\n",
      "4000/4000 [==============================] - 31s 8ms/sample - loss: 0.0669 - acc: 0.9775 - val_loss: 0.1033 - val_acc: 0.9728\n",
      "Epoch 69/100\n",
      "4000/4000 [==============================] - 30s 8ms/sample - loss: 0.0674 - acc: 0.9763 - val_loss: 0.1039 - val_acc: 0.9710\n",
      "Epoch 70/100\n",
      "4000/4000 [==============================] - 30s 8ms/sample - loss: 0.0663 - acc: 0.9782 - val_loss: 0.1144 - val_acc: 0.9706\n",
      "Epoch 71/100\n",
      "4000/4000 [==============================] - 30s 8ms/sample - loss: 0.0662 - acc: 0.9776 - val_loss: 0.1207 - val_acc: 0.9711\n",
      "Epoch 72/100\n",
      "4000/4000 [==============================] - 31s 8ms/sample - loss: 0.0628 - acc: 0.9778 - val_loss: 0.1002 - val_acc: 0.9729\n",
      "Epoch 73/100\n",
      "4000/4000 [==============================] - 30s 8ms/sample - loss: 0.0632 - acc: 0.9794 - val_loss: 0.1043 - val_acc: 0.9667\n",
      "Epoch 74/100\n",
      "4000/4000 [==============================] - 31s 8ms/sample - loss: 0.0696 - acc: 0.9780 - val_loss: 0.1016 - val_acc: 0.9726\n",
      "Epoch 75/100\n",
      "4000/4000 [==============================] - 30s 8ms/sample - loss: 0.0626 - acc: 0.9788 - val_loss: 0.1046 - val_acc: 0.9703\n",
      "Epoch 76/100\n",
      "4000/4000 [==============================] - 30s 8ms/sample - loss: 0.0631 - acc: 0.9783 - val_loss: 0.0981 - val_acc: 0.9723\n",
      "Epoch 77/100\n",
      "4000/4000 [==============================] - 30s 7ms/sample - loss: 0.0654 - acc: 0.9778 - val_loss: 0.1058 - val_acc: 0.9714\n",
      "Epoch 78/100\n",
      "4000/4000 [==============================] - 30s 7ms/sample - loss: 0.0627 - acc: 0.9785 - val_loss: 0.1056 - val_acc: 0.9714\n",
      "Epoch 79/100\n",
      "4000/4000 [==============================] - 31s 8ms/sample - loss: 0.0619 - acc: 0.9781 - val_loss: 0.1029 - val_acc: 0.9718\n",
      "Epoch 80/100\n",
      "4000/4000 [==============================] - 31s 8ms/sample - loss: 0.0613 - acc: 0.9791 - val_loss: 0.1085 - val_acc: 0.9724\n",
      "Epoch 81/100\n",
      "4000/4000 [==============================] - 31s 8ms/sample - loss: 0.0624 - acc: 0.9789 - val_loss: 0.1132 - val_acc: 0.9708\n",
      "Epoch 82/100\n",
      "4000/4000 [==============================] - 31s 8ms/sample - loss: 0.0621 - acc: 0.9794 - val_loss: 0.1137 - val_acc: 0.9712\n",
      "Epoch 83/100\n",
      "4000/4000 [==============================] - 31s 8ms/sample - loss: 0.0642 - acc: 0.9784 - val_loss: 0.1027 - val_acc: 0.9719\n",
      "Epoch 84/100\n",
      "4000/4000 [==============================] - 30s 8ms/sample - loss: 0.0630 - acc: 0.9786 - val_loss: 0.1026 - val_acc: 0.9723\n",
      "Epoch 85/100\n",
      "4000/4000 [==============================] - 31s 8ms/sample - loss: 0.0623 - acc: 0.9793 - val_loss: 0.0998 - val_acc: 0.9719\n",
      "Epoch 86/100\n",
      "4000/4000 [==============================] - 31s 8ms/sample - loss: 0.0615 - acc: 0.9794 - val_loss: 0.1117 - val_acc: 0.9725\n",
      "Epoch 87/100\n",
      "4000/4000 [==============================] - 31s 8ms/sample - loss: 0.0629 - acc: 0.9795 - val_loss: 0.1029 - val_acc: 0.9683\n",
      "Epoch 88/100\n",
      "4000/4000 [==============================] - 31s 8ms/sample - loss: 0.0643 - acc: 0.9793 - val_loss: 0.1013 - val_acc: 0.9721\n",
      "Epoch 89/100\n",
      "4000/4000 [==============================] - 31s 8ms/sample - loss: 0.0619 - acc: 0.9793 - val_loss: 0.1014 - val_acc: 0.9719\n",
      "Epoch 90/100\n",
      "4000/4000 [==============================] - 32s 8ms/sample - loss: 0.0640 - acc: 0.9788 - val_loss: 0.0998 - val_acc: 0.9718\n",
      "Epoch 91/100\n",
      "4000/4000 [==============================] - 31s 8ms/sample - loss: 0.0605 - acc: 0.9799 - val_loss: 0.0997 - val_acc: 0.9712\n",
      "Epoch 92/100\n",
      "4000/4000 [==============================] - 30s 7ms/sample - loss: 0.0606 - acc: 0.9799 - val_loss: 0.0988 - val_acc: 0.9718\n",
      "Epoch 93/100\n",
      "4000/4000 [==============================] - 31s 8ms/sample - loss: 0.0658 - acc: 0.9776 - val_loss: 0.1002 - val_acc: 0.9710\n",
      "Epoch 94/100\n",
      "4000/4000 [==============================] - 31s 8ms/sample - loss: 0.0588 - acc: 0.9794 - val_loss: 0.1055 - val_acc: 0.9707\n",
      "Epoch 95/100\n",
      "4000/4000 [==============================] - 32s 8ms/sample - loss: 0.0590 - acc: 0.9804 - val_loss: 0.1065 - val_acc: 0.9651\n",
      "Epoch 96/100\n",
      "4000/4000 [==============================] - 31s 8ms/sample - loss: 0.0600 - acc: 0.9799 - val_loss: 0.1089 - val_acc: 0.9692\n",
      "Epoch 97/100\n",
      "4000/4000 [==============================] - 30s 8ms/sample - loss: 0.0625 - acc: 0.9784 - val_loss: 0.0991 - val_acc: 0.9706\n",
      "Epoch 98/100\n",
      "4000/4000 [==============================] - 30s 8ms/sample - loss: 0.0578 - acc: 0.9803 - val_loss: 0.1090 - val_acc: 0.9728\n",
      "Epoch 99/100\n",
      "4000/4000 [==============================] - 30s 7ms/sample - loss: 0.0595 - acc: 0.9803 - val_loss: 0.1014 - val_acc: 0.9698\n",
      "Epoch 100/100\n",
      "4000/4000 [==============================] - 30s 8ms/sample - loss: 0.0614 - acc: 0.9795 - val_loss: 0.1237 - val_acc: 0.9699\n"
     ]
    }
   ],
   "source": [
    "from tensorflow.keras import layers\n",
    "from tensorflow.keras import models\n",
    "\n",
    "model = models.Sequential()\n",
    "model.add(layers.GRU(32,return_sequences=True,recurrent_dropout=0.1))\n",
    "model.add(layers.Dense(1,activation='sigmoid'))\n",
    "model.compile(optimizer='rmsprop',loss='binary_crossentropy',metrics = ['acc'])\n",
    "history = model.fit(x_train, y_train_reshape, epochs=100, batch_size=100, validation_data=(x_val,y_val))"
   ]
  },
  {
   "cell_type": "code",
   "execution_count": 9,
   "metadata": {},
   "outputs": [
    {
     "name": "stdout",
     "output_type": "stream",
     "text": [
      "2690/2690 [==============================] - 8s 3ms/sample - loss: 0.2200 - acc: 0.9563\n"
     ]
    },
    {
     "data": {
      "text/plain": [
       "[0.22000126611120258, 0.95628667]"
      ]
     },
     "execution_count": 9,
     "metadata": {},
     "output_type": "execute_result"
    }
   ],
   "source": [
    "model.evaluate(x_test, y_test_reshape)"
   ]
  },
  {
   "cell_type": "code",
   "execution_count": 10,
   "metadata": {},
   "outputs": [],
   "source": [
    "epoch_range = list(range(0, 100))\n",
    "training_loss = history.history['loss']\n",
    "val_loss = history.history['val_loss']\n",
    "\n",
    "train_acc = history.history['acc']\n",
    "val_acc = history.history['val_acc']"
   ]
  },
  {
   "cell_type": "code",
   "execution_count": 11,
   "metadata": {},
   "outputs": [
    {
     "data": {
      "text/plain": [
       "Text(0.5, 1.0, 'Training and Validation Loss')"
      ]
     },
     "execution_count": 11,
     "metadata": {},
     "output_type": "execute_result"
    },
    {
     "data": {
      "image/png": "[encoded data removed]",
      "text/plain": [
       "<Figure size 432x288 with 1 Axes>"
      ]
     },
     "metadata": {
      "needs_background": "light"
     },
     "output_type": "display_data"
    }
   ],
   "source": [
    "plt.plot(epoch_range, training_loss, 'b', label='Training Loss')\n",
    "plt.plot(epoch_range, val_loss, 'r', label='Validation Loss')\n",
    "plt.xlabel('Epochs')\n",
    "plt.ylabel('Loss')\n",
    "plt.legend()\n",
    "plt.title('Training and Validation Loss')"
   ]
  },
  {
   "cell_type": "code",
   "execution_count": 12,
   "metadata": {},
   "outputs": [
    {
     "data": {
      "text/plain": [
       "Text(0.5, 1.0, 'Training and Validation Accuracy')"
      ]
     },
     "execution_count": 12,
     "metadata": {},
     "output_type": "execute_result"
    },
    {
     "data": {
      "image/png": "[encoded data removed]",
      "text/plain": [
       "<Figure size 432x288 with 1 Axes>"
      ]
     },
     "metadata": {
      "needs_background": "light"
     },
     "output_type": "display_data"
    }
   ],
   "source": [
    "plt.plot(epoch_range, train_acc, 'b', label='Training Accuracy')\n",
    "plt.plot(epoch_range, val_acc, 'r', label='Validation Accuracy')\n",
    "plt.xlabel('Epochs')\n",
    "plt.ylabel('Loss')\n",
    "plt.legend()\n",
    "plt.title('Training and Validation Accuracy')"
   ]
  },
  {
   "cell_type": "code",
   "execution_count": 13,
   "metadata": {},
   "outputs": [
    {
     "data": {
      "text/plain": [
       "<matplotlib.legend.Legend at 0x7f0804115ac8>"
      ]
     },
     "execution_count": 13,
     "metadata": {},
     "output_type": "execute_result"
    },
    {
     "data": {
      "image/png": "[encoded data removed]",
      "text/plain": [
       "<Figure size 432x288 with 1 Axes>"
      ]
     },
     "metadata": {
      "needs_background": "light"
     },
     "output_type": "display_data"
    }
   ],
   "source": [
    "y_pred = []\n",
    "y_pred = model.predict(x_test)\n",
    "\n",
    "y_pred_vals = []\n",
    "y_score = []\n",
    "\n",
    "for i in range(len(y_pred)):\n",
    "    val = y_pred[i][-1][0]\n",
    "    y_score.append(val)\n",
    "    val_round = np.round(val)\n",
    "    y_pred_vals.append(val_round)\n",
    "    \n",
    "y_true_vals = []\n",
    "for i in range(len(y_test_reshape)):\n",
    "    val = y_test_reshape[i][0][0]\n",
    "    y_true_vals.append(val)\n",
    "    \n",
    "fpr, tpr, thresholds = sklearn.metrics.roc_curve(y_true_vals, y_score)\n",
    "auc = sklearn.metrics.roc_auc_score(y_true_vals, y_score)\n",
    "\n",
    "plt.plot(fpr, tpr, label ='ROC Curve (area = %0.3f)'%auc)\n",
    "plt.plot([0,1],[0,1], linestyle = '--')\n",
    "plt.xlabel('True Positive Rate')\n",
    "plt.ylabel('False Positive Rate')\n",
    "plt.title('ROC Curve')\n",
    "plt.legend()"
   ]
  }
 ],
 "metadata": {
  "kernelspec": {
   "display_name": "Python 3",
   "language": "python",
   "name": "python3"
  },
  "language_info": {
   "codemirror_mode": {
    "name": "ipython",
    "version": 3
   },
   "file_extension": ".py",
   "mimetype": "text/x-python",
   "name": "python",
   "nbconvert_exporter": "python",
   "pygments_lexer": "ipython3",
   "version": "3.7.6"
  }
 },
 "nbformat": 4,
 "nbformat_minor": 4
}
