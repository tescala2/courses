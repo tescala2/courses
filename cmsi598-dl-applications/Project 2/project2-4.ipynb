{
 "cells": [
  {
   "cell_type": "code",
   "execution_count": 1,
   "metadata": {},
   "outputs": [],
   "source": [
    "import tensorflow as tf\n",
    "import tensorflow.keras as keras\n",
    "import matplotlib.pyplot as plt\n",
    "import numpy as np\n",
    "import random"
   ]
  },
  {
   "cell_type": "markdown",
   "metadata": {},
   "source": [
    "# Part 4"
   ]
  },
  {
   "cell_type": "markdown",
   "metadata": {},
   "source": [
    "## 4.1\n",
    "#### Save your best performed model in part 3. Then reload the saved model and continue to train for 10 epochs. Show both your training accuracy and validation accuracy curves"
   ]
  },
  {
   "cell_type": "code",
   "execution_count": 2,
   "metadata": {},
   "outputs": [],
   "source": [
    "# Saved the data in another file \n",
    "# Need to download the data\n",
    "from tensorflow.keras.datasets import cifar10"
   ]
  },
  {
   "cell_type": "code",
   "execution_count": 3,
   "metadata": {},
   "outputs": [],
   "source": [
    "# Need to re-load the data in order to continue training\n",
    "(train_images, train_labels), (test_images, test_labels) = cifar10.load_data()"
   ]
  },
  {
   "cell_type": "code",
   "execution_count": 4,
   "metadata": {},
   "outputs": [],
   "source": [
    "# Expand our data set by flipping the images across the vertical axis\n",
    "flip_train_images = []\n",
    "for i in range(len(train_images)):\n",
    "    img = np.fliplr(train_images[i])\n",
    "    flip_train_images.append(img)"
   ]
  },
  {
   "cell_type": "code",
   "execution_count": 5,
   "metadata": {},
   "outputs": [],
   "source": [
    "all_train_images = np.append(train_images, flip_train_images, axis = 0)\n",
    "all_train_labels = np.append(train_labels, train_labels, axis = 0)"
   ]
  },
  {
   "cell_type": "code",
   "execution_count": 6,
   "metadata": {},
   "outputs": [
    {
     "name": "stdout",
     "output_type": "stream",
     "text": [
      "[8]\n"
     ]
    },
    {
     "data": {
      "image/png": "[encoded data removed]",
      "text/plain": [
       "<Figure size 432x288 with 1 Axes>"
      ]
     },
     "metadata": {
      "needs_background": "light"
     },
     "output_type": "display_data"
    }
   ],
   "source": [
    "plt.imshow(all_train_images[100])\n",
    "print(all_train_labels[100])"
   ]
  },
  {
   "cell_type": "code",
   "execution_count": 7,
   "metadata": {},
   "outputs": [
    {
     "name": "stdout",
     "output_type": "stream",
     "text": [
      "[8]\n"
     ]
    },
    {
     "data": {
      "image/png": "[encoded data removed]",
      "text/plain": [
       "<Figure size 432x288 with 1 Axes>"
      ]
     },
     "metadata": {
      "needs_background": "light"
     },
     "output_type": "display_data"
    }
   ],
   "source": [
    "plt.imshow(all_train_images[50100])\n",
    "print(all_train_labels[50100])"
   ]
  },
  {
   "cell_type": "code",
   "execution_count": 8,
   "metadata": {},
   "outputs": [
    {
     "name": "stdout",
     "output_type": "stream",
     "text": [
      "Number of images in the training set: 100000\n",
      "Number of images in the test set:  10000\n"
     ]
    }
   ],
   "source": [
    "print('Number of images in the training set:', len(all_train_images))\n",
    "\n",
    "print('Number of images in the test set: ', len(test_images))"
   ]
  },
  {
   "cell_type": "code",
   "execution_count": 9,
   "metadata": {},
   "outputs": [],
   "source": [
    "# Normalize the Data\n",
    "all_train_images = all_train_images.astype('float32')/255\n",
    "\n",
    "test_images = test_images.astype('float32')/255"
   ]
  },
  {
   "cell_type": "code",
   "execution_count": 10,
   "metadata": {},
   "outputs": [],
   "source": [
    "# Need to make the labels categorical form\n",
    "from tensorflow.keras.utils import to_categorical"
   ]
  },
  {
   "cell_type": "code",
   "execution_count": 11,
   "metadata": {},
   "outputs": [],
   "source": [
    "train_labels_categorical = to_categorical(all_train_labels)\n",
    "\n",
    "test_labels_categorical = to_categorical(test_labels)"
   ]
  },
  {
   "cell_type": "code",
   "execution_count": 12,
   "metadata": {},
   "outputs": [
    {
     "data": {
      "text/plain": [
       "array([0., 0., 0., 1., 0., 0., 0., 0., 0., 0.], dtype=float32)"
      ]
     },
     "execution_count": 12,
     "metadata": {},
     "output_type": "execute_result"
    }
   ],
   "source": [
    "test_labels_categorical[0]"
   ]
  },
  {
   "cell_type": "code",
   "execution_count": 13,
   "metadata": {},
   "outputs": [],
   "source": [
    "# Isolate validation data\n",
    "# Create a list of random integers between 0 and 50,000\n",
    "num_val_samples = 10000\n",
    "\n",
    "shuffle_indices = random.sample(range(0,100000), num_val_samples)\n",
    "\n",
    "# Train images with random indices become new validation set\n",
    "val_images = all_train_images[shuffle_indices]\n",
    "val_labels = all_train_labels[shuffle_indices]\n",
    "val_labels_categorical = train_labels_categorical[shuffle_indices]\n",
    "\n",
    "# Remove the validation set from the training set \n",
    "all_train_images = np.delete(all_train_images, shuffle_indices, axis=0)\n",
    "all_train_labels = np.delete(all_train_labels, shuffle_indices, axis=0)\n",
    "train_labels_categorical = np.delete(train_labels_categorical, shuffle_indices, axis=0)"
   ]
  },
  {
   "cell_type": "code",
   "execution_count": 14,
   "metadata": {},
   "outputs": [
    {
     "data": {
      "text/plain": [
       "(10000, 32, 32, 3)"
      ]
     },
     "execution_count": 14,
     "metadata": {},
     "output_type": "execute_result"
    }
   ],
   "source": [
    "val_images.shape"
   ]
  },
  {
   "cell_type": "code",
   "execution_count": 15,
   "metadata": {},
   "outputs": [],
   "source": [
    "# Load the trained model\n",
    "trained_model = tf.keras.models.load_model('cifar10_bs1000')"
   ]
  },
  {
   "cell_type": "code",
   "execution_count": 16,
   "metadata": {},
   "outputs": [
    {
     "name": "stdout",
     "output_type": "stream",
     "text": [
      "Model: \"sequential_1\"\n",
      "_________________________________________________________________\n",
      "Layer (type)                 Output Shape              Param #   \n",
      "=================================================================\n",
      "conv2d_9 (Conv2D)            (None, 32, 32, 32)        896       \n",
      "_________________________________________________________________\n",
      "conv2d_10 (Conv2D)           (None, 32, 32, 32)        9248      \n",
      "_________________________________________________________________\n",
      "max_pooling2d_5 (MaxPooling2 (None, 16, 16, 32)        0         \n",
      "_________________________________________________________________\n",
      "dropout_8 (Dropout)          (None, 16, 16, 32)        0         \n",
      "_________________________________________________________________\n",
      "conv2d_11 (Conv2D)           (None, 16, 16, 64)        18496     \n",
      "_________________________________________________________________\n",
      "conv2d_12 (Conv2D)           (None, 16, 16, 64)        36928     \n",
      "_________________________________________________________________\n",
      "max_pooling2d_6 (MaxPooling2 (None, 8, 8, 64)          0         \n",
      "_________________________________________________________________\n",
      "dropout_9 (Dropout)          (None, 8, 8, 64)          0         \n",
      "_________________________________________________________________\n",
      "conv2d_13 (Conv2D)           (None, 8, 8, 128)         73856     \n",
      "_________________________________________________________________\n",
      "conv2d_14 (Conv2D)           (None, 8, 8, 128)         147584    \n",
      "_________________________________________________________________\n",
      "max_pooling2d_7 (MaxPooling2 (None, 4, 4, 128)         0         \n",
      "_________________________________________________________________\n",
      "dropout_10 (Dropout)         (None, 4, 4, 128)         0         \n",
      "_________________________________________________________________\n",
      "conv2d_15 (Conv2D)           (None, 4, 4, 256)         295168    \n",
      "_________________________________________________________________\n",
      "conv2d_16 (Conv2D)           (None, 4, 4, 256)         590080    \n",
      "_________________________________________________________________\n",
      "max_pooling2d_8 (MaxPooling2 (None, 2, 2, 256)         0         \n",
      "_________________________________________________________________\n",
      "dropout_11 (Dropout)         (None, 2, 2, 256)         0         \n",
      "_________________________________________________________________\n",
      "conv2d_17 (Conv2D)           (None, 2, 2, 512)         1180160   \n",
      "_________________________________________________________________\n",
      "max_pooling2d_9 (MaxPooling2 (None, 1, 1, 512)         0         \n",
      "_________________________________________________________________\n",
      "dropout_12 (Dropout)         (None, 1, 1, 512)         0         \n",
      "_________________________________________________________________\n",
      "flatten_1 (Flatten)          (None, 512)               0         \n",
      "_________________________________________________________________\n",
      "dense_4 (Dense)              (None, 512)               262656    \n",
      "_________________________________________________________________\n",
      "dropout_13 (Dropout)         (None, 512)               0         \n",
      "_________________________________________________________________\n",
      "dense_5 (Dense)              (None, 1024)              525312    \n",
      "_________________________________________________________________\n",
      "dropout_14 (Dropout)         (None, 1024)              0         \n",
      "_________________________________________________________________\n",
      "dense_6 (Dense)              (None, 2048)              2099200   \n",
      "_________________________________________________________________\n",
      "dropout_15 (Dropout)         (None, 2048)              0         \n",
      "_________________________________________________________________\n",
      "dense_7 (Dense)              (None, 10)                20490     \n",
      "=================================================================\n",
      "Total params: 5,260,074\n",
      "Trainable params: 5,260,074\n",
      "Non-trainable params: 0\n",
      "_________________________________________________________________\n"
     ]
    }
   ],
   "source": [
    "trained_model.summary()"
   ]
  },
  {
   "cell_type": "code",
   "execution_count": 17,
   "metadata": {},
   "outputs": [
    {
     "name": "stdout",
     "output_type": "stream",
     "text": [
      "Train on 90000 samples, validate on 10000 samples\n",
      "Epoch 1/10\n",
      "90000/90000 [==============================] - 19s 206us/sample - loss: 0.2726 - accuracy: 0.9145 - val_loss: 0.0949 - val_accuracy: 0.9818\n",
      "Epoch 2/10\n",
      "90000/90000 [==============================] - 14s 160us/sample - loss: 0.2607 - accuracy: 0.9187 - val_loss: 0.1143 - val_accuracy: 0.9742\n",
      "Epoch 3/10\n",
      "90000/90000 [==============================] - 14s 160us/sample - loss: 0.2629 - accuracy: 0.9171 - val_loss: 0.1204 - val_accuracy: 0.9692\n",
      "Epoch 4/10\n",
      "90000/90000 [==============================] - 15s 162us/sample - loss: 0.2568 - accuracy: 0.9190 - val_loss: 0.0959 - val_accuracy: 0.9761\n",
      "Epoch 5/10\n",
      "90000/90000 [==============================] - 14s 160us/sample - loss: 0.2576 - accuracy: 0.9186 - val_loss: 0.1085 - val_accuracy: 0.9713\n",
      "Epoch 6/10\n",
      "90000/90000 [==============================] - 14s 161us/sample - loss: 0.2529 - accuracy: 0.9198 - val_loss: 0.1052 - val_accuracy: 0.9755\n",
      "Epoch 7/10\n",
      "90000/90000 [==============================] - 14s 161us/sample - loss: 0.2520 - accuracy: 0.9200 - val_loss: 0.1090 - val_accuracy: 0.9723\n",
      "Epoch 8/10\n",
      "90000/90000 [==============================] - 15s 161us/sample - loss: 0.2533 - accuracy: 0.9196 - val_loss: 0.1119 - val_accuracy: 0.9740\n",
      "Epoch 9/10\n",
      "90000/90000 [==============================] - 15s 162us/sample - loss: 0.2499 - accuracy: 0.9208 - val_loss: 0.0983 - val_accuracy: 0.9752\n",
      "Epoch 10/10\n",
      "90000/90000 [==============================] - 15s 162us/sample - loss: 0.2541 - accuracy: 0.9200 - val_loss: 0.1068 - val_accuracy: 0.9716\n"
     ]
    }
   ],
   "source": [
    "# Train for 10 more epochs\n",
    "num_epochs = 10\n",
    "bs = 500\n",
    "\n",
    "\n",
    "history = trained_model.fit(all_train_images, train_labels_categorical, \n",
    "                    validation_data=(val_images, val_labels_categorical), \n",
    "                    epochs=num_epochs, batch_size=bs, verbose=1)"
   ]
  },
  {
   "cell_type": "code",
   "execution_count": 18,
   "metadata": {},
   "outputs": [],
   "source": [
    "epoch_range = list(range(1, num_epochs+1))\n",
    "training_loss = history.history['loss']\n",
    "val_loss = history.history['val_loss']\n",
    "\n",
    "train_acc = history.history['accuracy']\n",
    "val_acc = history.history['val_accuracy']"
   ]
  },
  {
   "cell_type": "code",
   "execution_count": 19,
   "metadata": {},
   "outputs": [
    {
     "data": {
      "text/plain": [
       "Text(0.5, 1.0, 'Training and Validation Loss')"
      ]
     },
     "execution_count": 19,
     "metadata": {},
     "output_type": "execute_result"
    },
    {
     "data": {
      "image/png": "[encoded data removed]",
      "text/plain": [
       "<Figure size 432x288 with 1 Axes>"
      ]
     },
     "metadata": {
      "needs_background": "light"
     },
     "output_type": "display_data"
    }
   ],
   "source": [
    "plt.plot(epoch_range, training_loss, 'b', label='Training Loss')\n",
    "plt.plot(epoch_range, val_loss, 'r', label='Validation Loss')\n",
    "plt.xlabel('Epochs')\n",
    "plt.ylabel('Loss')\n",
    "plt.legend()\n",
    "plt.title('Training and Validation Loss')"
   ]
  },
  {
   "cell_type": "code",
   "execution_count": 20,
   "metadata": {},
   "outputs": [
    {
     "data": {
      "text/plain": [
       "Text(0.5, 1.0, 'Training and Validation Accuracy')"
      ]
     },
     "execution_count": 20,
     "metadata": {},
     "output_type": "execute_result"
    },
    {
     "data": {
      "image/png": "[encoded data removed]",
      "text/plain": [
       "<Figure size 432x288 with 1 Axes>"
      ]
     },
     "metadata": {
      "needs_background": "light"
     },
     "output_type": "display_data"
    }
   ],
   "source": [
    "plt.plot(epoch_range, train_acc, 'b', label='Training Accuracy')\n",
    "plt.plot(epoch_range, val_acc, 'r', label='Validation Accuracy')\n",
    "plt.xlabel('Epochs')\n",
    "plt.ylabel('Loss')\n",
    "plt.legend()\n",
    "plt.title('Training and Validation Accuracy')"
   ]
  },
  {
   "cell_type": "markdown",
   "metadata": {},
   "source": [
    "## 4.2\n",
    "#### Save your newly trained model in 4.1, then reload it. Fix the weights in all the layers before the classification layer(s), and continue to train the classification layer(s) only for another 10 epochs, show bot you trainng and validation curves. "
   ]
  },
  {
   "cell_type": "code",
   "execution_count": 21,
   "metadata": {},
   "outputs": [],
   "source": [
    "# Save the model that was trained in 4.1\n",
    "trained_model.save('extra_trained_model.h5')"
   ]
  },
  {
   "cell_type": "code",
   "execution_count": 22,
   "metadata": {},
   "outputs": [],
   "source": [
    "# Load the model\n",
    "new_model = tf.keras.models.load_model('extra_trained_model.h5')"
   ]
  },
  {
   "cell_type": "code",
   "execution_count": 23,
   "metadata": {},
   "outputs": [
    {
     "name": "stdout",
     "output_type": "stream",
     "text": [
      "Model: \"sequential_1\"\n",
      "_________________________________________________________________\n",
      "Layer (type)                 Output Shape              Param #   \n",
      "=================================================================\n",
      "conv2d_9 (Conv2D)            (None, 32, 32, 32)        896       \n",
      "_________________________________________________________________\n",
      "conv2d_10 (Conv2D)           (None, 32, 32, 32)        9248      \n",
      "_________________________________________________________________\n",
      "max_pooling2d_5 (MaxPooling2 (None, 16, 16, 32)        0         \n",
      "_________________________________________________________________\n",
      "dropout_8 (Dropout)          (None, 16, 16, 32)        0         \n",
      "_________________________________________________________________\n",
      "conv2d_11 (Conv2D)           (None, 16, 16, 64)        18496     \n",
      "_________________________________________________________________\n",
      "conv2d_12 (Conv2D)           (None, 16, 16, 64)        36928     \n",
      "_________________________________________________________________\n",
      "max_pooling2d_6 (MaxPooling2 (None, 8, 8, 64)          0         \n",
      "_________________________________________________________________\n",
      "dropout_9 (Dropout)          (None, 8, 8, 64)          0         \n",
      "_________________________________________________________________\n",
      "conv2d_13 (Conv2D)           (None, 8, 8, 128)         73856     \n",
      "_________________________________________________________________\n",
      "conv2d_14 (Conv2D)           (None, 8, 8, 128)         147584    \n",
      "_________________________________________________________________\n",
      "max_pooling2d_7 (MaxPooling2 (None, 4, 4, 128)         0         \n",
      "_________________________________________________________________\n",
      "dropout_10 (Dropout)         (None, 4, 4, 128)         0         \n",
      "_________________________________________________________________\n",
      "conv2d_15 (Conv2D)           (None, 4, 4, 256)         295168    \n",
      "_________________________________________________________________\n",
      "conv2d_16 (Conv2D)           (None, 4, 4, 256)         590080    \n",
      "_________________________________________________________________\n",
      "max_pooling2d_8 (MaxPooling2 (None, 2, 2, 256)         0         \n",
      "_________________________________________________________________\n",
      "dropout_11 (Dropout)         (None, 2, 2, 256)         0         \n",
      "_________________________________________________________________\n",
      "conv2d_17 (Conv2D)           (None, 2, 2, 512)         1180160   \n",
      "_________________________________________________________________\n",
      "max_pooling2d_9 (MaxPooling2 (None, 1, 1, 512)         0         \n",
      "_________________________________________________________________\n",
      "dropout_12 (Dropout)         (None, 1, 1, 512)         0         \n",
      "_________________________________________________________________\n",
      "flatten_1 (Flatten)          (None, 512)               0         \n",
      "_________________________________________________________________\n",
      "dense_4 (Dense)              (None, 512)               262656    \n",
      "_________________________________________________________________\n",
      "dropout_13 (Dropout)         (None, 512)               0         \n",
      "_________________________________________________________________\n",
      "dense_5 (Dense)              (None, 1024)              525312    \n",
      "_________________________________________________________________\n",
      "dropout_14 (Dropout)         (None, 1024)              0         \n",
      "_________________________________________________________________\n",
      "dense_6 (Dense)              (None, 2048)              2099200   \n",
      "_________________________________________________________________\n",
      "dropout_15 (Dropout)         (None, 2048)              0         \n",
      "_________________________________________________________________\n",
      "dense_7 (Dense)              (None, 10)                20490     \n",
      "=================================================================\n",
      "Total params: 5,260,074\n",
      "Trainable params: 5,260,074\n",
      "Non-trainable params: 0\n",
      "_________________________________________________________________\n"
     ]
    }
   ],
   "source": [
    "new_model.summary()"
   ]
  },
  {
   "cell_type": "code",
   "execution_count": 24,
   "metadata": {},
   "outputs": [
    {
     "name": "stdout",
     "output_type": "stream",
     "text": [
      "Number of trainable weights before freezing conv blocks:  26\n"
     ]
    }
   ],
   "source": [
    "print('Number of trainable weights before freezing conv blocks: ', len(new_model.trainable_weights))"
   ]
  },
  {
   "cell_type": "code",
   "execution_count": 25,
   "metadata": {},
   "outputs": [
    {
     "name": "stdout",
     "output_type": "stream",
     "text": [
      "<tensorflow.python.keras.layers.convolutional.Conv2D object at 0x7fdeb43854e0> False\n",
      "<tensorflow.python.keras.layers.convolutional.Conv2D object at 0x7fdeb4385940> False\n",
      "<tensorflow.python.keras.layers.pooling.MaxPooling2D object at 0x7fdeb43916a0> False\n",
      "<tensorflow.python.keras.layers.core.Dropout object at 0x7fdeb4391748> False\n",
      "<tensorflow.python.keras.layers.convolutional.Conv2D object at 0x7fdeb4397278> False\n",
      "<tensorflow.python.keras.layers.convolutional.Conv2D object at 0x7fdeb43a6710> False\n",
      "<tensorflow.python.keras.layers.pooling.MaxPooling2D object at 0x7fdeb43ae5f8> False\n",
      "<tensorflow.python.keras.layers.core.Dropout object at 0x7fdeb43ae4e0> False\n",
      "<tensorflow.python.keras.layers.convolutional.Conv2D object at 0x7fdeb4335048> False\n",
      "<tensorflow.python.keras.layers.convolutional.Conv2D object at 0x7fdeb433ff60> False\n",
      "<tensorflow.python.keras.layers.pooling.MaxPooling2D object at 0x7fdeb4347358> False\n",
      "<tensorflow.python.keras.layers.core.Dropout object at 0x7fdeb4347f28> False\n",
      "<tensorflow.python.keras.layers.convolutional.Conv2D object at 0x7fdeb4347ef0> False\n",
      "<tensorflow.python.keras.layers.convolutional.Conv2D object at 0x7fdeb4356ba8> False\n",
      "<tensorflow.python.keras.layers.pooling.MaxPooling2D object at 0x7fdeb4359400> False\n",
      "<tensorflow.python.keras.layers.core.Dropout object at 0x7fdeb4356c88> False\n",
      "<tensorflow.python.keras.layers.convolutional.Conv2D object at 0x7fdeb4360d30> False\n",
      "<tensorflow.python.keras.layers.pooling.MaxPooling2D object at 0x7fdeb436c940> False\n",
      "<tensorflow.python.keras.layers.core.Dropout object at 0x7fdeb4360e48> False\n"
     ]
    }
   ],
   "source": [
    "# Freeze all the convolutional layers. Leave all the dense layers(the classification layers) to be trained\n",
    "for row in range(0,19):\n",
    "    layer = new_model.layers[row]\n",
    "    layer.trainable = False\n",
    "    \n",
    "    print(layer, layer.trainable)"
   ]
  },
  {
   "cell_type": "code",
   "execution_count": 26,
   "metadata": {},
   "outputs": [
    {
     "name": "stdout",
     "output_type": "stream",
     "text": [
      "Number of trainable weights after freezing conv blocks:  8\n"
     ]
    }
   ],
   "source": [
    "print('Number of trainable weights after freezing conv blocks: ', len(new_model.trainable_weights))"
   ]
  },
  {
   "cell_type": "code",
   "execution_count": 27,
   "metadata": {},
   "outputs": [],
   "source": [
    "# Compile the model\n",
    "opt = keras.optimizers.Adadelta(learning_rate=1.0)\n",
    "new_model.compile(optimizer=opt, loss='categorical_crossentropy', metrics=['accuracy'])"
   ]
  },
  {
   "cell_type": "code",
   "execution_count": 28,
   "metadata": {},
   "outputs": [
    {
     "name": "stdout",
     "output_type": "stream",
     "text": [
      "Train on 90000 samples, validate on 10000 samples\n",
      "Epoch 1/10\n",
      "90000/90000 [==============================] - 7s 75us/sample - loss: 0.2273 - accuracy: 0.9281 - val_loss: 0.0978 - val_accuracy: 0.9743\n",
      "Epoch 2/10\n",
      "90000/90000 [==============================] - 6s 67us/sample - loss: 0.2257 - accuracy: 0.9284 - val_loss: 0.1006 - val_accuracy: 0.9749\n",
      "Epoch 3/10\n",
      "90000/90000 [==============================] - 6s 67us/sample - loss: 0.2284 - accuracy: 0.9277 - val_loss: 0.0972 - val_accuracy: 0.9759\n",
      "Epoch 4/10\n",
      "90000/90000 [==============================] - 6s 67us/sample - loss: 0.2271 - accuracy: 0.9277 - val_loss: 0.0990 - val_accuracy: 0.9767\n",
      "Epoch 5/10\n",
      "90000/90000 [==============================] - 6s 67us/sample - loss: 0.2239 - accuracy: 0.9296 - val_loss: 0.0907 - val_accuracy: 0.9778\n",
      "Epoch 6/10\n",
      "90000/90000 [==============================] - 6s 67us/sample - loss: 0.2276 - accuracy: 0.9273 - val_loss: 0.0970 - val_accuracy: 0.9747\n",
      "Epoch 7/10\n",
      "90000/90000 [==============================] - 6s 67us/sample - loss: 0.2259 - accuracy: 0.9290 - val_loss: 0.0943 - val_accuracy: 0.9752\n",
      "Epoch 8/10\n",
      "90000/90000 [==============================] - 6s 67us/sample - loss: 0.2244 - accuracy: 0.9277 - val_loss: 0.1040 - val_accuracy: 0.9760\n",
      "Epoch 9/10\n",
      "90000/90000 [==============================] - 6s 67us/sample - loss: 0.2262 - accuracy: 0.9283 - val_loss: 0.0945 - val_accuracy: 0.9764\n",
      "Epoch 10/10\n",
      "90000/90000 [==============================] - 6s 67us/sample - loss: 0.2246 - accuracy: 0.9290 - val_loss: 0.0941 - val_accuracy: 0.9756\n"
     ]
    }
   ],
   "source": [
    "# Train for another 10 epochs\n",
    "num_epochs = 10\n",
    "bs = 500\n",
    "\n",
    "\n",
    "history = new_model.fit(all_train_images, train_labels_categorical, \n",
    "                    validation_data=(val_images, val_labels_categorical), \n",
    "                    epochs=num_epochs, batch_size=bs, verbose=1)"
   ]
  },
  {
   "cell_type": "code",
   "execution_count": 29,
   "metadata": {},
   "outputs": [],
   "source": [
    "epoch_range = list(range(1, num_epochs+1))\n",
    "training_loss = history.history['loss']\n",
    "val_loss = history.history['val_loss']\n",
    "\n",
    "train_acc = history.history['accuracy']\n",
    "val_acc = history.history['val_accuracy']"
   ]
  },
  {
   "cell_type": "code",
   "execution_count": 30,
   "metadata": {},
   "outputs": [
    {
     "data": {
      "text/plain": [
       "Text(0.5, 1.0, 'Training and Validation Loss')"
      ]
     },
     "execution_count": 30,
     "metadata": {},
     "output_type": "execute_result"
    },
    {
     "data": {
      "image/png": "[encoded data removed]",
      "text/plain": [
       "<Figure size 432x288 with 1 Axes>"
      ]
     },
     "metadata": {
      "needs_background": "light"
     },
     "output_type": "display_data"
    }
   ],
   "source": [
    "plt.plot(epoch_range, training_loss, 'b', label='Training Loss')\n",
    "plt.plot(epoch_range, val_loss, 'r', label='Validation Loss')\n",
    "plt.xlabel('Epochs')\n",
    "plt.ylabel('Loss')\n",
    "plt.legend()\n",
    "plt.title('Training and Validation Loss')"
   ]
  },
  {
   "cell_type": "code",
   "execution_count": 31,
   "metadata": {},
   "outputs": [
    {
     "data": {
      "text/plain": [
       "Text(0.5, 1.0, 'Training and Validation Accuracy')"
      ]
     },
     "execution_count": 31,
     "metadata": {},
     "output_type": "execute_result"
    },
    {
     "data": {
      "image/png": "[encoded data removed]",
      "text/plain": [
       "<Figure size 432x288 with 1 Axes>"
      ]
     },
     "metadata": {
      "needs_background": "light"
     },
     "output_type": "display_data"
    }
   ],
   "source": [
    "plt.plot(epoch_range, train_acc, 'b', label='Training Accuracy')\n",
    "plt.plot(epoch_range, val_acc, 'r', label='Validation Accuracy')\n",
    "plt.xlabel('Epochs')\n",
    "plt.ylabel('Loss')\n",
    "plt.legend()\n",
    "plt.title('Training and Validation Accuracy')"
   ]
  },
  {
   "cell_type": "markdown",
   "metadata": {},
   "source": [
    "## 4.3 \n",
    "#### Use the same base model (without the classification layers) in 4.2, and add a new classifier layer, and train the new classifier layer from scratch. show both your training and vlaidation curves. "
   ]
  },
  {
   "cell_type": "code",
   "execution_count": 32,
   "metadata": {},
   "outputs": [
    {
     "name": "stdout",
     "output_type": "stream",
     "text": [
      "Model: \"sequential_1\"\n",
      "_________________________________________________________________\n",
      "Layer (type)                 Output Shape              Param #   \n",
      "=================================================================\n",
      "conv2d_9 (Conv2D)            (None, 32, 32, 32)        896       \n",
      "_________________________________________________________________\n",
      "conv2d_10 (Conv2D)           (None, 32, 32, 32)        9248      \n",
      "_________________________________________________________________\n",
      "max_pooling2d_5 (MaxPooling2 (None, 16, 16, 32)        0         \n",
      "_________________________________________________________________\n",
      "dropout_8 (Dropout)          (None, 16, 16, 32)        0         \n",
      "_________________________________________________________________\n",
      "conv2d_11 (Conv2D)           (None, 16, 16, 64)        18496     \n",
      "_________________________________________________________________\n",
      "conv2d_12 (Conv2D)           (None, 16, 16, 64)        36928     \n",
      "_________________________________________________________________\n",
      "max_pooling2d_6 (MaxPooling2 (None, 8, 8, 64)          0         \n",
      "_________________________________________________________________\n",
      "dropout_9 (Dropout)          (None, 8, 8, 64)          0         \n",
      "_________________________________________________________________\n",
      "conv2d_13 (Conv2D)           (None, 8, 8, 128)         73856     \n",
      "_________________________________________________________________\n",
      "conv2d_14 (Conv2D)           (None, 8, 8, 128)         147584    \n",
      "_________________________________________________________________\n",
      "max_pooling2d_7 (MaxPooling2 (None, 4, 4, 128)         0         \n",
      "_________________________________________________________________\n",
      "dropout_10 (Dropout)         (None, 4, 4, 128)         0         \n",
      "_________________________________________________________________\n",
      "conv2d_15 (Conv2D)           (None, 4, 4, 256)         295168    \n",
      "_________________________________________________________________\n",
      "conv2d_16 (Conv2D)           (None, 4, 4, 256)         590080    \n",
      "_________________________________________________________________\n",
      "max_pooling2d_8 (MaxPooling2 (None, 2, 2, 256)         0         \n",
      "_________________________________________________________________\n",
      "dropout_11 (Dropout)         (None, 2, 2, 256)         0         \n",
      "_________________________________________________________________\n",
      "conv2d_17 (Conv2D)           (None, 2, 2, 512)         1180160   \n",
      "_________________________________________________________________\n",
      "max_pooling2d_9 (MaxPooling2 (None, 1, 1, 512)         0         \n",
      "_________________________________________________________________\n",
      "dropout_12 (Dropout)         (None, 1, 1, 512)         0         \n",
      "_________________________________________________________________\n",
      "flatten_1 (Flatten)          (None, 512)               0         \n",
      "_________________________________________________________________\n",
      "dense_4 (Dense)              (None, 512)               262656    \n",
      "_________________________________________________________________\n",
      "dropout_13 (Dropout)         (None, 512)               0         \n",
      "_________________________________________________________________\n",
      "dense_5 (Dense)              (None, 1024)              525312    \n",
      "_________________________________________________________________\n",
      "dropout_14 (Dropout)         (None, 1024)              0         \n",
      "_________________________________________________________________\n",
      "dense_6 (Dense)              (None, 2048)              2099200   \n",
      "_________________________________________________________________\n",
      "dropout_15 (Dropout)         (None, 2048)              0         \n",
      "_________________________________________________________________\n",
      "dense_7 (Dense)              (None, 10)                20490     \n",
      "=================================================================\n",
      "Total params: 5,260,074\n",
      "Trainable params: 2,907,658\n",
      "Non-trainable params: 2,352,416\n",
      "_________________________________________________________________\n"
     ]
    }
   ],
   "source": [
    "new_model.summary()"
   ]
  },
  {
   "cell_type": "code",
   "execution_count": 33,
   "metadata": {},
   "outputs": [],
   "source": [
    "from tensorflow.keras import models\n",
    "from tensorflow.keras import layers"
   ]
  },
  {
   "cell_type": "code",
   "execution_count": 34,
   "metadata": {},
   "outputs": [],
   "source": [
    "# The only way we can figure out how to do this is by creating a new model with the layers from the trained model\n",
    "conv_layers = new_model.layers[:19]\n",
    "\n",
    "classifier_layers= new_model.layers[19:]"
   ]
  },
  {
   "cell_type": "code",
   "execution_count": 35,
   "metadata": {},
   "outputs": [],
   "source": [
    "# new model\n",
    "edited_model = models.Sequential()\n",
    "\n",
    "# add conv layers to the new model\n",
    "for layer in conv_layers:\n",
    "    edited_model.add(layer)\n",
    "\n",
    "# add some classifier layers to the new model \n",
    "for layer in classifier_layers[:7]:\n",
    "    edited_model.add(layer)\n",
    "    \n",
    "# add a new layer\n",
    "edited_model.add(layers.Dense(2048, activation='relu'))\n",
    "\n"
   ]
  },
  {
   "cell_type": "code",
   "execution_count": 36,
   "metadata": {},
   "outputs": [],
   "source": [
    "# add the last layer of the orginal classifiers\n",
    "edited_model.add(classifier_layers[7])"
   ]
  },
  {
   "cell_type": "code",
   "execution_count": 37,
   "metadata": {},
   "outputs": [],
   "source": [
    "# Compile the model\n",
    "opt = keras.optimizers.Adadelta(learning_rate=1.0)\n",
    "edited_model.compile(optimizer=opt, loss='categorical_crossentropy', metrics=['accuracy'])"
   ]
  },
  {
   "cell_type": "code",
   "execution_count": 38,
   "metadata": {},
   "outputs": [
    {
     "name": "stdout",
     "output_type": "stream",
     "text": [
      "Model: \"sequential\"\n",
      "_________________________________________________________________\n",
      "Layer (type)                 Output Shape              Param #   \n",
      "=================================================================\n",
      "conv2d_9 (Conv2D)            (None, 32, 32, 32)        896       \n",
      "_________________________________________________________________\n",
      "conv2d_10 (Conv2D)           (None, 32, 32, 32)        9248      \n",
      "_________________________________________________________________\n",
      "max_pooling2d_5 (MaxPooling2 (None, 16, 16, 32)        0         \n",
      "_________________________________________________________________\n",
      "dropout_8 (Dropout)          (None, 16, 16, 32)        0         \n",
      "_________________________________________________________________\n",
      "conv2d_11 (Conv2D)           (None, 16, 16, 64)        18496     \n",
      "_________________________________________________________________\n",
      "conv2d_12 (Conv2D)           (None, 16, 16, 64)        36928     \n",
      "_________________________________________________________________\n",
      "max_pooling2d_6 (MaxPooling2 (None, 8, 8, 64)          0         \n",
      "_________________________________________________________________\n",
      "dropout_9 (Dropout)          (None, 8, 8, 64)          0         \n",
      "_________________________________________________________________\n",
      "conv2d_13 (Conv2D)           (None, 8, 8, 128)         73856     \n",
      "_________________________________________________________________\n",
      "conv2d_14 (Conv2D)           (None, 8, 8, 128)         147584    \n",
      "_________________________________________________________________\n",
      "max_pooling2d_7 (MaxPooling2 (None, 4, 4, 128)         0         \n",
      "_________________________________________________________________\n",
      "dropout_10 (Dropout)         (None, 4, 4, 128)         0         \n",
      "_________________________________________________________________\n",
      "conv2d_15 (Conv2D)           (None, 4, 4, 256)         295168    \n",
      "_________________________________________________________________\n",
      "conv2d_16 (Conv2D)           (None, 4, 4, 256)         590080    \n",
      "_________________________________________________________________\n",
      "max_pooling2d_8 (MaxPooling2 (None, 2, 2, 256)         0         \n",
      "_________________________________________________________________\n",
      "dropout_11 (Dropout)         (None, 2, 2, 256)         0         \n",
      "_________________________________________________________________\n",
      "conv2d_17 (Conv2D)           (None, 2, 2, 512)         1180160   \n",
      "_________________________________________________________________\n",
      "max_pooling2d_9 (MaxPooling2 (None, 1, 1, 512)         0         \n",
      "_________________________________________________________________\n",
      "dropout_12 (Dropout)         (None, 1, 1, 512)         0         \n",
      "_________________________________________________________________\n",
      "flatten_1 (Flatten)          (None, 512)               0         \n",
      "_________________________________________________________________\n",
      "dense_4 (Dense)              (None, 512)               262656    \n",
      "_________________________________________________________________\n",
      "dropout_13 (Dropout)         (None, 512)               0         \n",
      "_________________________________________________________________\n",
      "dense_5 (Dense)              (None, 1024)              525312    \n",
      "_________________________________________________________________\n",
      "dropout_14 (Dropout)         (None, 1024)              0         \n",
      "_________________________________________________________________\n",
      "dense_6 (Dense)              (None, 2048)              2099200   \n",
      "_________________________________________________________________\n",
      "dropout_15 (Dropout)         (None, 2048)              0         \n",
      "_________________________________________________________________\n",
      "dense (Dense)                (None, 2048)              4196352   \n",
      "_________________________________________________________________\n",
      "dense_7 (Dense)              (None, 10)                20490     \n",
      "=================================================================\n",
      "Total params: 9,456,426\n",
      "Trainable params: 7,104,010\n",
      "Non-trainable params: 2,352,416\n",
      "_________________________________________________________________\n"
     ]
    }
   ],
   "source": [
    "edited_model.summary()"
   ]
  },
  {
   "cell_type": "code",
   "execution_count": 39,
   "metadata": {},
   "outputs": [
    {
     "name": "stdout",
     "output_type": "stream",
     "text": [
      "Train on 90000 samples, validate on 10000 samples\n",
      "Epoch 1/50\n",
      "90000/90000 [==============================] - 8s 85us/sample - loss: 0.3443 - accuracy: 0.9172 - val_loss: 0.1130 - val_accuracy: 0.9726\n",
      "Epoch 2/50\n",
      "90000/90000 [==============================] - 7s 77us/sample - loss: 0.2338 - accuracy: 0.9282 - val_loss: 0.1007 - val_accuracy: 0.9744\n",
      "Epoch 3/50\n",
      "90000/90000 [==============================] - 7s 77us/sample - loss: 0.2288 - accuracy: 0.9279 - val_loss: 0.0974 - val_accuracy: 0.9749\n",
      "Epoch 4/50\n",
      "90000/90000 [==============================] - 7s 77us/sample - loss: 0.2295 - accuracy: 0.9284 - val_loss: 0.1003 - val_accuracy: 0.9736\n",
      "Epoch 5/50\n",
      "90000/90000 [==============================] - 7s 77us/sample - loss: 0.2306 - accuracy: 0.9278 - val_loss: 0.1135 - val_accuracy: 0.9746\n",
      "Epoch 6/50\n",
      "90000/90000 [==============================] - 7s 77us/sample - loss: 0.2253 - accuracy: 0.9289 - val_loss: 0.1074 - val_accuracy: 0.9745\n",
      "Epoch 7/50\n",
      "90000/90000 [==============================] - 7s 77us/sample - loss: 0.2266 - accuracy: 0.9283 - val_loss: 0.1005 - val_accuracy: 0.9761\n",
      "Epoch 8/50\n",
      "90000/90000 [==============================] - 7s 77us/sample - loss: 0.2243 - accuracy: 0.9282 - val_loss: 0.0987 - val_accuracy: 0.9763\n",
      "Epoch 9/50\n",
      "90000/90000 [==============================] - 7s 77us/sample - loss: 0.2272 - accuracy: 0.9272 - val_loss: 0.1008 - val_accuracy: 0.9735\n",
      "Epoch 10/50\n",
      "90000/90000 [==============================] - 7s 78us/sample - loss: 0.2246 - accuracy: 0.9285 - val_loss: 0.0967 - val_accuracy: 0.9746\n",
      "Epoch 11/50\n",
      "90000/90000 [==============================] - 7s 78us/sample - loss: 0.2240 - accuracy: 0.9283 - val_loss: 0.1053 - val_accuracy: 0.9738\n",
      "Epoch 12/50\n",
      "90000/90000 [==============================] - 7s 77us/sample - loss: 0.2241 - accuracy: 0.9290 - val_loss: 0.1033 - val_accuracy: 0.9734\n",
      "Epoch 13/50\n",
      "90000/90000 [==============================] - 7s 77us/sample - loss: 0.2237 - accuracy: 0.9285 - val_loss: 0.0958 - val_accuracy: 0.9767\n",
      "Epoch 14/50\n",
      "90000/90000 [==============================] - 7s 77us/sample - loss: 0.2232 - accuracy: 0.9288 - val_loss: 0.0945 - val_accuracy: 0.9754\n",
      "Epoch 15/50\n",
      "90000/90000 [==============================] - 7s 77us/sample - loss: 0.2260 - accuracy: 0.9289 - val_loss: 0.1013 - val_accuracy: 0.9756\n",
      "Epoch 16/50\n",
      "90000/90000 [==============================] - 7s 78us/sample - loss: 0.2252 - accuracy: 0.9292 - val_loss: 0.1015 - val_accuracy: 0.9751\n",
      "Epoch 17/50\n",
      "90000/90000 [==============================] - 7s 77us/sample - loss: 0.2215 - accuracy: 0.9288 - val_loss: 0.1032 - val_accuracy: 0.9743\n",
      "Epoch 18/50\n",
      "90000/90000 [==============================] - 7s 77us/sample - loss: 0.2252 - accuracy: 0.9283 - val_loss: 0.1016 - val_accuracy: 0.9749\n",
      "Epoch 19/50\n",
      "90000/90000 [==============================] - 7s 77us/sample - loss: 0.2236 - accuracy: 0.9283 - val_loss: 0.0981 - val_accuracy: 0.9749\n",
      "Epoch 20/50\n",
      "90000/90000 [==============================] - 7s 77us/sample - loss: 0.2229 - accuracy: 0.9294 - val_loss: 0.1022 - val_accuracy: 0.9766\n",
      "Epoch 21/50\n",
      "90000/90000 [==============================] - 7s 77us/sample - loss: 0.2208 - accuracy: 0.9296 - val_loss: 0.0960 - val_accuracy: 0.9751\n",
      "Epoch 22/50\n",
      "90000/90000 [==============================] - 7s 77us/sample - loss: 0.2208 - accuracy: 0.9298 - val_loss: 0.0937 - val_accuracy: 0.9765\n",
      "Epoch 23/50\n",
      "90000/90000 [==============================] - 7s 77us/sample - loss: 0.2210 - accuracy: 0.9289 - val_loss: 0.0935 - val_accuracy: 0.9777\n",
      "Epoch 24/50\n",
      "90000/90000 [==============================] - 7s 77us/sample - loss: 0.2238 - accuracy: 0.9283 - val_loss: 0.0952 - val_accuracy: 0.9762\n",
      "Epoch 25/50\n",
      "90000/90000 [==============================] - 7s 77us/sample - loss: 0.2181 - accuracy: 0.9299 - val_loss: 0.0965 - val_accuracy: 0.9759\n",
      "Epoch 26/50\n",
      "90000/90000 [==============================] - 7s 77us/sample - loss: 0.2211 - accuracy: 0.9292 - val_loss: 0.0944 - val_accuracy: 0.9747\n",
      "Epoch 27/50\n",
      "90000/90000 [==============================] - 7s 77us/sample - loss: 0.2216 - accuracy: 0.9291 - val_loss: 0.0913 - val_accuracy: 0.9758\n",
      "Epoch 28/50\n",
      "90000/90000 [==============================] - 7s 77us/sample - loss: 0.2184 - accuracy: 0.9297 - val_loss: 0.0921 - val_accuracy: 0.9741\n",
      "Epoch 29/50\n",
      "90000/90000 [==============================] - 7s 77us/sample - loss: 0.2244 - accuracy: 0.9272 - val_loss: 0.1014 - val_accuracy: 0.9744\n",
      "Epoch 30/50\n",
      "90000/90000 [==============================] - 7s 77us/sample - loss: 0.2180 - accuracy: 0.9307 - val_loss: 0.0921 - val_accuracy: 0.9756\n",
      "Epoch 31/50\n",
      "90000/90000 [==============================] - 7s 77us/sample - loss: 0.2210 - accuracy: 0.9285 - val_loss: 0.0987 - val_accuracy: 0.9754\n",
      "Epoch 32/50\n",
      "90000/90000 [==============================] - 7s 77us/sample - loss: 0.2202 - accuracy: 0.9296 - val_loss: 0.0890 - val_accuracy: 0.9749\n",
      "Epoch 33/50\n",
      "90000/90000 [==============================] - 7s 77us/sample - loss: 0.2188 - accuracy: 0.9300 - val_loss: 0.0968 - val_accuracy: 0.9754\n",
      "Epoch 34/50\n",
      "90000/90000 [==============================] - 7s 77us/sample - loss: 0.2206 - accuracy: 0.9291 - val_loss: 0.0936 - val_accuracy: 0.9761\n",
      "Epoch 35/50\n",
      "90000/90000 [==============================] - 7s 77us/sample - loss: 0.2190 - accuracy: 0.9286 - val_loss: 0.0973 - val_accuracy: 0.9773\n",
      "Epoch 36/50\n",
      "90000/90000 [==============================] - 7s 77us/sample - loss: 0.2223 - accuracy: 0.9295 - val_loss: 0.0940 - val_accuracy: 0.9757\n",
      "Epoch 37/50\n",
      "90000/90000 [==============================] - 7s 77us/sample - loss: 0.2250 - accuracy: 0.9284 - val_loss: 0.1012 - val_accuracy: 0.9756\n",
      "Epoch 38/50\n",
      "90000/90000 [==============================] - 7s 77us/sample - loss: 0.2186 - accuracy: 0.9305 - val_loss: 0.0921 - val_accuracy: 0.9763\n",
      "Epoch 39/50\n",
      "90000/90000 [==============================] - 7s 77us/sample - loss: 0.2226 - accuracy: 0.9286 - val_loss: 0.0955 - val_accuracy: 0.9761\n",
      "Epoch 40/50\n",
      "90000/90000 [==============================] - 7s 77us/sample - loss: 0.2241 - accuracy: 0.9271 - val_loss: 0.0863 - val_accuracy: 0.9778\n",
      "Epoch 41/50\n",
      "90000/90000 [==============================] - 7s 77us/sample - loss: 0.2162 - accuracy: 0.9296 - val_loss: 0.0916 - val_accuracy: 0.9773\n",
      "Epoch 42/50\n",
      "90000/90000 [==============================] - 7s 77us/sample - loss: 0.2233 - accuracy: 0.9280 - val_loss: 0.0957 - val_accuracy: 0.9763\n",
      "Epoch 43/50\n",
      "90000/90000 [==============================] - 7s 77us/sample - loss: 0.2177 - accuracy: 0.9301 - val_loss: 0.0957 - val_accuracy: 0.9751\n",
      "Epoch 44/50\n",
      "90000/90000 [==============================] - 7s 77us/sample - loss: 0.2209 - accuracy: 0.9300 - val_loss: 0.0924 - val_accuracy: 0.9750\n",
      "Epoch 45/50\n",
      "90000/90000 [==============================] - 7s 77us/sample - loss: 0.2206 - accuracy: 0.9295 - val_loss: 0.0931 - val_accuracy: 0.9733\n",
      "Epoch 46/50\n",
      "90000/90000 [==============================] - 7s 77us/sample - loss: 0.2197 - accuracy: 0.9300 - val_loss: 0.0939 - val_accuracy: 0.9760\n",
      "Epoch 47/50\n",
      "90000/90000 [==============================] - 7s 77us/sample - loss: 0.2199 - accuracy: 0.9294 - val_loss: 0.0921 - val_accuracy: 0.9763\n",
      "Epoch 48/50\n",
      "90000/90000 [==============================] - 7s 77us/sample - loss: 0.2211 - accuracy: 0.9288 - val_loss: 0.0921 - val_accuracy: 0.9760\n",
      "Epoch 49/50\n",
      "90000/90000 [==============================] - 7s 77us/sample - loss: 0.2188 - accuracy: 0.9295 - val_loss: 0.0878 - val_accuracy: 0.9773\n",
      "Epoch 50/50\n",
      "90000/90000 [==============================] - 7s 77us/sample - loss: 0.2199 - accuracy: 0.9289 - val_loss: 0.0884 - val_accuracy: 0.9759\n"
     ]
    }
   ],
   "source": [
    "# Train the model \n",
    "# Train for 10 more epochs\n",
    "num_epochs = 50\n",
    "bs = 500\n",
    "\n",
    "\n",
    "history = edited_model.fit(all_train_images, train_labels_categorical, \n",
    "                    validation_data=(val_images, val_labels_categorical), \n",
    "                    epochs=num_epochs, batch_size=bs, verbose=1)"
   ]
  },
  {
   "cell_type": "code",
   "execution_count": 40,
   "metadata": {},
   "outputs": [
    {
     "data": {
      "text/plain": [
       "Text(0.5, 1.0, 'Training and Validation Loss')"
      ]
     },
     "execution_count": 40,
     "metadata": {},
     "output_type": "execute_result"
    },
    {
     "data": {
      "image/png": "[encoded data removed]",
      "text/plain": [
       "<Figure size 432x288 with 1 Axes>"
      ]
     },
     "metadata": {
      "needs_background": "light"
     },
     "output_type": "display_data"
    }
   ],
   "source": [
    "plt.plot(epoch_range, training_loss, 'b', label='Training Loss')\n",
    "plt.plot(epoch_range, val_loss, 'r', label='Validation Loss')\n",
    "plt.xlabel('Epochs')\n",
    "plt.ylabel('Loss')\n",
    "plt.legend()\n",
    "plt.title('Training and Validation Loss')"
   ]
  },
  {
   "cell_type": "code",
   "execution_count": 41,
   "metadata": {},
   "outputs": [
    {
     "data": {
      "text/plain": [
       "Text(0.5, 1.0, 'Training and Validation Accuracy')"
      ]
     },
     "execution_count": 41,
     "metadata": {},
     "output_type": "execute_result"
    },
    {
     "data": {
      "image/png": "[encoded data removed]",
      "text/plain": [
       "<Figure size 432x288 with 1 Axes>"
      ]
     },
     "metadata": {
      "needs_background": "light"
     },
     "output_type": "display_data"
    }
   ],
   "source": [
    "plt.plot(epoch_range, train_acc, 'b', label='Training Accuracy')\n",
    "plt.plot(epoch_range, val_acc, 'r', label='Validation Accuracy')\n",
    "plt.xlabel('Epochs')\n",
    "plt.ylabel('Loss')\n",
    "plt.legend()\n",
    "plt.title('Training and Validation Accuracy')"
   ]
  },
  {
   "cell_type": "code",
   "execution_count": null,
   "metadata": {},
   "outputs": [],
   "source": []
  }
 ],
 "metadata": {
  "kernelspec": {
   "display_name": "Python 3",
   "language": "python",
   "name": "python3"
  },
  "language_info": {
   "codemirror_mode": {
    "name": "ipython",
    "version": 3
   },
   "file_extension": ".py",
   "mimetype": "text/x-python",
   "name": "python",
   "nbconvert_exporter": "python",
   "pygments_lexer": "ipython3",
   "version": "3.5.3"
  }
 },
 "nbformat": 4,
 "nbformat_minor": 4
}
