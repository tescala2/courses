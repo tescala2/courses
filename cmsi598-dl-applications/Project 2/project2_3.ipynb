{
 "cells": [
  {
   "cell_type": "markdown",
   "metadata": {},
   "source": [
    "# Part 3: Model and training fine-tuning"
   ]
  },
  {
   "cell_type": "markdown",
   "metadata": {},
   "source": [
    "## 3.1 Modify the model arcitecture parameters, including: \n",
    "### a) Number of different layers\n",
    "### b) Number of filters/ outputs in each layer"
   ]
  },
  {
   "cell_type": "code",
   "execution_count": 1,
   "metadata": {},
   "outputs": [],
   "source": [
    "import tensorflow as tf\n",
    "import tensorflow.keras as keras\n",
    "import matplotlib.pyplot as plt\n",
    "import numpy as np\n",
    "import random"
   ]
  },
  {
   "cell_type": "code",
   "execution_count": 2,
   "metadata": {},
   "outputs": [],
   "source": [
    "# Need to download the data\n",
    "from tensorflow.keras.datasets import cifar10"
   ]
  },
  {
   "cell_type": "code",
   "execution_count": 3,
   "metadata": {},
   "outputs": [],
   "source": [
    "(train_images, train_labels), (test_images, test_labels) = cifar10.load_data()"
   ]
  },
  {
   "cell_type": "code",
   "execution_count": 4,
   "metadata": {},
   "outputs": [],
   "source": [
    "flip_train_images = []\n",
    "for i in range(len(train_images)):\n",
    "    img = np.fliplr(train_images[i])\n",
    "    flip_train_images.append(img)"
   ]
  },
  {
   "cell_type": "code",
   "execution_count": 5,
   "metadata": {},
   "outputs": [],
   "source": [
    "all_train_images = np.append(train_images, flip_train_images, axis = 0)\n",
    "all_train_labels = np.append(train_labels, train_labels, axis = 0)"
   ]
  },
  {
   "cell_type": "code",
   "execution_count": 6,
   "metadata": {},
   "outputs": [
    {
     "name": "stdout",
     "output_type": "stream",
     "text": [
      "[8]\n"
     ]
    },
    {
     "data": {
      "image/png": "[encoded data removed]",
      "text/plain": [
       "<Figure size 432x288 with 1 Axes>"
      ]
     },
     "metadata": {
      "needs_background": "light"
     },
     "output_type": "display_data"
    }
   ],
   "source": [
    "plt.imshow(all_train_images[100])\n",
    "print(all_train_labels[100])"
   ]
  },
  {
   "cell_type": "code",
   "execution_count": 7,
   "metadata": {},
   "outputs": [
    {
     "name": "stdout",
     "output_type": "stream",
     "text": [
      "[8]\n"
     ]
    },
    {
     "data": {
      "image/png": "[encoded data removed]",
      "text/plain": [
       "<Figure size 432x288 with 1 Axes>"
      ]
     },
     "metadata": {
      "needs_background": "light"
     },
     "output_type": "display_data"
    }
   ],
   "source": [
    "plt.imshow(all_train_images[50100])\n",
    "print(all_train_labels[50100])"
   ]
  },
  {
   "cell_type": "code",
   "execution_count": 8,
   "metadata": {},
   "outputs": [
    {
     "name": "stdout",
     "output_type": "stream",
     "text": [
      "Number of images in the training set: 100000\n",
      "Number of images in the test set:  10000\n"
     ]
    }
   ],
   "source": [
    "print('Number of images in the training set:', len(all_train_images))\n",
    "\n",
    "print('Number of images in the test set: ', len(test_images))"
   ]
  },
  {
   "cell_type": "code",
   "execution_count": 9,
   "metadata": {},
   "outputs": [],
   "source": [
    "# Normalize the Data\n",
    "all_train_images = all_train_images.astype('float32')/255\n",
    "\n",
    "test_images = test_images.astype('float32')/255"
   ]
  },
  {
   "cell_type": "code",
   "execution_count": 10,
   "metadata": {},
   "outputs": [],
   "source": [
    "# Need to make the labels categorical form\n",
    "from tensorflow.keras.utils import to_categorical"
   ]
  },
  {
   "cell_type": "code",
   "execution_count": 11,
   "metadata": {},
   "outputs": [],
   "source": [
    "train_labels_categorical = to_categorical(all_train_labels)\n",
    "\n",
    "test_labels_categorical = to_categorical(test_labels)"
   ]
  },
  {
   "cell_type": "code",
   "execution_count": 12,
   "metadata": {},
   "outputs": [
    {
     "data": {
      "text/plain": [
       "array([0., 0., 0., 1., 0., 0., 0., 0., 0., 0.], dtype=float32)"
      ]
     },
     "execution_count": 12,
     "metadata": {},
     "output_type": "execute_result"
    }
   ],
   "source": [
    "test_labels_categorical[0]"
   ]
  },
  {
   "cell_type": "code",
   "execution_count": 13,
   "metadata": {},
   "outputs": [],
   "source": [
    "# Isolate validation data\n",
    "# Create a list of random integers between 0 and 50,000\n",
    "num_val_samples = 10000\n",
    "\n",
    "shuffle_indices = random.sample(range(0,100000), num_val_samples)\n",
    "\n",
    "# Train images with random indices become new validation set\n",
    "val_images = all_train_images[shuffle_indices]\n",
    "val_labels = all_train_labels[shuffle_indices]\n",
    "val_labels_categorical = train_labels_categorical[shuffle_indices]\n",
    "\n",
    "# Remove the validation set from the training set \n",
    "all_train_images = np.delete(all_train_images, shuffle_indices, axis=0)\n",
    "all_train_labels = np.delete(all_train_labels, shuffle_indices, axis=0)\n",
    "train_labels_categorical = np.delete(train_labels_categorical, shuffle_indices, axis=0)"
   ]
  },
  {
   "cell_type": "markdown",
   "metadata": {},
   "source": [
    "### Build the CNN"
   ]
  },
  {
   "cell_type": "code",
   "execution_count": 14,
   "metadata": {},
   "outputs": [],
   "source": [
    "from tensorflow.keras import layers\n",
    "from tensorflow.keras import models\n",
    "\n",
    "def build_model():\n",
    "    model = models.Sequential()\n",
    "    model.add(layers.Conv2D(16, (3,3), activation='relu', input_shape=(32,32,3), padding='same'))\n",
    "    model.add(layers.MaxPooling2D((2,2), strides=2))\n",
    "    model.add(layers.Dropout(0.25))\n",
    "    \n",
    "    model.add(layers.Conv2D(16, (3,3), activation='relu', input_shape=(32,32,3), padding='same'))\n",
    "    model.add(layers.MaxPooling2D((2,2), strides=2))\n",
    "    model.add(layers.Dropout(0.25))\n",
    "    \n",
    "    model.add(layers.Conv2D(32, (3,3), activation='relu', padding='same'))\n",
    "    model.add(layers.MaxPooling2D((2,2), strides=2))\n",
    "    model.add(layers.Dropout(0.25))\n",
    "    \n",
    "    model.add(layers.Conv2D(32, (3,3), activation='relu', padding='same'))\n",
    "    model.add(layers.MaxPooling2D((2,2), strides=2))\n",
    "    model.add(layers.Dropout(0.25))\n",
    "    \n",
    "    model.add(layers.Conv2D(64, (3,3), activation='relu', padding='same'))\n",
    "    model.add(layers.MaxPooling2D((2,2), strides=2)) \n",
    "    model.add(layers.Dropout(0.25))\n",
    "\n",
    "    model.add(layers.Flatten())\n",
    "    model.add(layers.Dense(1024, activation='relu'))\n",
    "    model.add(layers.Dropout(0.25))\n",
    "    model.add(layers.Dense(10, activation='softmax')) \n",
    "\n",
    "    model.compile(optimizer='SGD', loss='categorical_crossentropy', metrics=['accuracy'])\n",
    "    \n",
    "    return model"
   ]
  },
  {
   "cell_type": "code",
   "execution_count": 15,
   "metadata": {},
   "outputs": [
    {
     "name": "stdout",
     "output_type": "stream",
     "text": [
      "Model: \"sequential\"\n",
      "_________________________________________________________________\n",
      "Layer (type)                 Output Shape              Param #   \n",
      "=================================================================\n",
      "conv2d (Conv2D)              (None, 32, 32, 16)        448       \n",
      "_________________________________________________________________\n",
      "max_pooling2d (MaxPooling2D) (None, 16, 16, 16)        0         \n",
      "_________________________________________________________________\n",
      "dropout (Dropout)            (None, 16, 16, 16)        0         \n",
      "_________________________________________________________________\n",
      "conv2d_1 (Conv2D)            (None, 16, 16, 16)        2320      \n",
      "_________________________________________________________________\n",
      "max_pooling2d_1 (MaxPooling2 (None, 8, 8, 16)          0         \n",
      "_________________________________________________________________\n",
      "dropout_1 (Dropout)          (None, 8, 8, 16)          0         \n",
      "_________________________________________________________________\n",
      "conv2d_2 (Conv2D)            (None, 8, 8, 32)          4640      \n",
      "_________________________________________________________________\n",
      "max_pooling2d_2 (MaxPooling2 (None, 4, 4, 32)          0         \n",
      "_________________________________________________________________\n",
      "dropout_2 (Dropout)          (None, 4, 4, 32)          0         \n",
      "_________________________________________________________________\n",
      "conv2d_3 (Conv2D)            (None, 4, 4, 32)          9248      \n",
      "_________________________________________________________________\n",
      "max_pooling2d_3 (MaxPooling2 (None, 2, 2, 32)          0         \n",
      "_________________________________________________________________\n",
      "dropout_3 (Dropout)          (None, 2, 2, 32)          0         \n",
      "_________________________________________________________________\n",
      "conv2d_4 (Conv2D)            (None, 2, 2, 64)          18496     \n",
      "_________________________________________________________________\n",
      "max_pooling2d_4 (MaxPooling2 (None, 1, 1, 64)          0         \n",
      "_________________________________________________________________\n",
      "dropout_4 (Dropout)          (None, 1, 1, 64)          0         \n",
      "_________________________________________________________________\n",
      "flatten (Flatten)            (None, 64)                0         \n",
      "_________________________________________________________________\n",
      "dense (Dense)                (None, 1024)              66560     \n",
      "_________________________________________________________________\n",
      "dropout_5 (Dropout)          (None, 1024)              0         \n",
      "_________________________________________________________________\n",
      "dense_1 (Dense)              (None, 10)                10250     \n",
      "=================================================================\n",
      "Total params: 111,962\n",
      "Trainable params: 111,962\n",
      "Non-trainable params: 0\n",
      "_________________________________________________________________\n"
     ]
    }
   ],
   "source": [
    "model = build_model()\n",
    "model.summary()"
   ]
  },
  {
   "cell_type": "code",
   "execution_count": 16,
   "metadata": {},
   "outputs": [
    {
     "name": "stdout",
     "output_type": "stream",
     "text": [
      "Train on 90000 samples, validate on 10000 samples\n",
      "Epoch 1/100\n",
      "90000/90000 [==============================] - 10s 114us/sample - loss: 2.3010 - accuracy: 0.1043 - val_loss: 2.2965 - val_accuracy: 0.1598\n",
      "Epoch 2/100\n",
      "90000/90000 [==============================] - 6s 61us/sample - loss: 2.2259 - accuracy: 0.1525 - val_loss: 2.1834 - val_accuracy: 0.1903\n",
      "Epoch 3/100\n",
      "90000/90000 [==============================] - 6s 62us/sample - loss: 2.1222 - accuracy: 0.2015 - val_loss: 2.1122 - val_accuracy: 0.2175\n",
      "Epoch 4/100\n",
      "90000/90000 [==============================] - 6s 62us/sample - loss: 2.0700 - accuracy: 0.2183 - val_loss: 2.0566 - val_accuracy: 0.2218\n",
      "Epoch 5/100\n",
      "90000/90000 [==============================] - 6s 61us/sample - loss: 2.0170 - accuracy: 0.2310 - val_loss: 1.9896 - val_accuracy: 0.2306\n",
      "Epoch 6/100\n",
      "90000/90000 [==============================] - 5s 61us/sample - loss: 1.9595 - accuracy: 0.2372 - val_loss: 1.9002 - val_accuracy: 0.2607\n",
      "Epoch 7/100\n",
      "90000/90000 [==============================] - 6s 62us/sample - loss: 1.9189 - accuracy: 0.2500 - val_loss: 1.9184 - val_accuracy: 0.2646\n",
      "Epoch 8/100\n",
      "90000/90000 [==============================] - 6s 62us/sample - loss: 1.8814 - accuracy: 0.2652 - val_loss: 1.8593 - val_accuracy: 0.2965\n",
      "Epoch 9/100\n",
      "90000/90000 [==============================] - 6s 61us/sample - loss: 1.8402 - accuracy: 0.2874 - val_loss: 1.8268 - val_accuracy: 0.3132\n",
      "Epoch 10/100\n",
      "90000/90000 [==============================] - 6s 61us/sample - loss: 1.7878 - accuracy: 0.3143 - val_loss: 1.7928 - val_accuracy: 0.3253\n",
      "Epoch 11/100\n",
      "90000/90000 [==============================] - 6s 61us/sample - loss: 1.7518 - accuracy: 0.3300 - val_loss: 1.8516 - val_accuracy: 0.3032\n",
      "Epoch 12/100\n",
      "90000/90000 [==============================] - 6s 61us/sample - loss: 1.7207 - accuracy: 0.3458 - val_loss: 1.7633 - val_accuracy: 0.3383\n",
      "Epoch 13/100\n",
      "90000/90000 [==============================] - 6s 61us/sample - loss: 1.6956 - accuracy: 0.3569 - val_loss: 1.7384 - val_accuracy: 0.3596\n",
      "Epoch 14/100\n",
      "90000/90000 [==============================] - 5s 61us/sample - loss: 1.6707 - accuracy: 0.3686 - val_loss: 1.6819 - val_accuracy: 0.3687\n",
      "Epoch 15/100\n",
      "90000/90000 [==============================] - 5s 61us/sample - loss: 1.6496 - accuracy: 0.3763 - val_loss: 1.8799 - val_accuracy: 0.3150\n",
      "Epoch 16/100\n",
      "90000/90000 [==============================] - 5s 61us/sample - loss: 1.6244 - accuracy: 0.3888 - val_loss: 1.6662 - val_accuracy: 0.3865\n",
      "Epoch 17/100\n",
      "90000/90000 [==============================] - 5s 61us/sample - loss: 1.6074 - accuracy: 0.3943 - val_loss: 1.6705 - val_accuracy: 0.3891\n",
      "Epoch 18/100\n",
      "90000/90000 [==============================] - 5s 61us/sample - loss: 1.5835 - accuracy: 0.4052 - val_loss: 1.7436 - val_accuracy: 0.3712\n",
      "Epoch 19/100\n",
      "90000/90000 [==============================] - 5s 61us/sample - loss: 1.5674 - accuracy: 0.4139 - val_loss: 1.6958 - val_accuracy: 0.3730\n",
      "Epoch 20/100\n",
      "90000/90000 [==============================] - 6s 61us/sample - loss: 1.5489 - accuracy: 0.4220 - val_loss: 1.7035 - val_accuracy: 0.3743\n",
      "Epoch 21/100\n",
      "90000/90000 [==============================] - 6s 61us/sample - loss: 1.5370 - accuracy: 0.4278 - val_loss: 1.6497 - val_accuracy: 0.3920\n",
      "Epoch 22/100\n",
      "90000/90000 [==============================] - 6s 63us/sample - loss: 1.5208 - accuracy: 0.4359 - val_loss: 1.6508 - val_accuracy: 0.3971\n",
      "Epoch 23/100\n",
      "90000/90000 [==============================] - 5s 61us/sample - loss: 1.5063 - accuracy: 0.4406 - val_loss: 1.6691 - val_accuracy: 0.3934\n",
      "Epoch 24/100\n",
      "90000/90000 [==============================] - 5s 61us/sample - loss: 1.4950 - accuracy: 0.4467 - val_loss: 1.5833 - val_accuracy: 0.4188\n",
      "Epoch 25/100\n",
      "90000/90000 [==============================] - 5s 61us/sample - loss: 1.4806 - accuracy: 0.4519 - val_loss: 1.5318 - val_accuracy: 0.4331\n",
      "Epoch 26/100\n",
      "90000/90000 [==============================] - 5s 61us/sample - loss: 1.4693 - accuracy: 0.4564 - val_loss: 1.5672 - val_accuracy: 0.4415\n",
      "Epoch 27/100\n",
      "90000/90000 [==============================] - 5s 60us/sample - loss: 1.4580 - accuracy: 0.4603 - val_loss: 1.5329 - val_accuracy: 0.4428\n",
      "Epoch 28/100\n",
      "90000/90000 [==============================] - 5s 60us/sample - loss: 1.4455 - accuracy: 0.4665 - val_loss: 1.4933 - val_accuracy: 0.4548\n",
      "Epoch 29/100\n",
      "90000/90000 [==============================] - 5s 61us/sample - loss: 1.4380 - accuracy: 0.4690 - val_loss: 1.5300 - val_accuracy: 0.4527\n",
      "Epoch 30/100\n",
      "90000/90000 [==============================] - 5s 60us/sample - loss: 1.4248 - accuracy: 0.4742 - val_loss: 1.5717 - val_accuracy: 0.4351\n",
      "Epoch 31/100\n",
      "90000/90000 [==============================] - 5s 60us/sample - loss: 1.4219 - accuracy: 0.4777 - val_loss: 1.4529 - val_accuracy: 0.4781\n",
      "Epoch 32/100\n",
      "90000/90000 [==============================] - 5s 61us/sample - loss: 1.4126 - accuracy: 0.4801 - val_loss: 1.5700 - val_accuracy: 0.4407\n",
      "Epoch 33/100\n",
      "90000/90000 [==============================] - 6s 64us/sample - loss: 1.4017 - accuracy: 0.4841 - val_loss: 1.4567 - val_accuracy: 0.4693\n",
      "Epoch 34/100\n",
      "90000/90000 [==============================] - 6s 63us/sample - loss: 1.3931 - accuracy: 0.4885 - val_loss: 1.4607 - val_accuracy: 0.4826\n",
      "Epoch 35/100\n",
      "90000/90000 [==============================] - 5s 60us/sample - loss: 1.3868 - accuracy: 0.4893 - val_loss: 1.4209 - val_accuracy: 0.4965\n",
      "Epoch 36/100\n",
      "90000/90000 [==============================] - 5s 61us/sample - loss: 1.3793 - accuracy: 0.4948 - val_loss: 1.4588 - val_accuracy: 0.4848\n",
      "Epoch 37/100\n",
      "90000/90000 [==============================] - 6s 61us/sample - loss: 1.3690 - accuracy: 0.4971 - val_loss: 1.3515 - val_accuracy: 0.5131\n",
      "Epoch 38/100\n",
      "90000/90000 [==============================] - 5s 60us/sample - loss: 1.3606 - accuracy: 0.4999 - val_loss: 1.3792 - val_accuracy: 0.5046\n",
      "Epoch 39/100\n",
      "90000/90000 [==============================] - 5s 61us/sample - loss: 1.3599 - accuracy: 0.4998 - val_loss: 1.4093 - val_accuracy: 0.5059\n",
      "Epoch 40/100\n",
      "90000/90000 [==============================] - 5s 60us/sample - loss: 1.3482 - accuracy: 0.5074 - val_loss: 1.4720 - val_accuracy: 0.4828\n",
      "Epoch 41/100\n",
      "90000/90000 [==============================] - 5s 60us/sample - loss: 1.3391 - accuracy: 0.5075 - val_loss: 1.4450 - val_accuracy: 0.4831\n",
      "Epoch 42/100\n",
      "90000/90000 [==============================] - 5s 60us/sample - loss: 1.3340 - accuracy: 0.5122 - val_loss: 1.3992 - val_accuracy: 0.5070\n",
      "Epoch 43/100\n",
      "90000/90000 [==============================] - 5s 60us/sample - loss: 1.3296 - accuracy: 0.5133 - val_loss: 1.4271 - val_accuracy: 0.4956\n",
      "Epoch 44/100\n",
      "90000/90000 [==============================] - 5s 60us/sample - loss: 1.3234 - accuracy: 0.5137 - val_loss: 1.3737 - val_accuracy: 0.5118\n",
      "Epoch 45/100\n",
      "90000/90000 [==============================] - 5s 60us/sample - loss: 1.3142 - accuracy: 0.5209 - val_loss: 1.3447 - val_accuracy: 0.5193\n",
      "Epoch 46/100\n",
      "90000/90000 [==============================] - 5s 61us/sample - loss: 1.3106 - accuracy: 0.5209 - val_loss: 1.4006 - val_accuracy: 0.5118\n",
      "Epoch 47/100\n",
      "90000/90000 [==============================] - 5s 60us/sample - loss: 1.3060 - accuracy: 0.5231 - val_loss: 1.3205 - val_accuracy: 0.5223\n",
      "Epoch 48/100\n",
      "90000/90000 [==============================] - 5s 60us/sample - loss: 1.2977 - accuracy: 0.5249 - val_loss: 1.3496 - val_accuracy: 0.5148\n",
      "Epoch 49/100\n",
      "90000/90000 [==============================] - 5s 60us/sample - loss: 1.2924 - accuracy: 0.5297 - val_loss: 1.3418 - val_accuracy: 0.5128\n",
      "Epoch 50/100\n",
      "90000/90000 [==============================] - 5s 60us/sample - loss: 1.2885 - accuracy: 0.5295 - val_loss: 1.2887 - val_accuracy: 0.5358\n",
      "Epoch 51/100\n",
      "90000/90000 [==============================] - 5s 61us/sample - loss: 1.2831 - accuracy: 0.5327 - val_loss: 1.2981 - val_accuracy: 0.5388\n",
      "Epoch 52/100\n",
      "90000/90000 [==============================] - 5s 61us/sample - loss: 1.2772 - accuracy: 0.5342 - val_loss: 1.2240 - val_accuracy: 0.5614\n",
      "Epoch 53/100\n",
      "90000/90000 [==============================] - 5s 60us/sample - loss: 1.2697 - accuracy: 0.5378 - val_loss: 1.2717 - val_accuracy: 0.5496\n",
      "Epoch 54/100\n",
      "90000/90000 [==============================] - 5s 60us/sample - loss: 1.2724 - accuracy: 0.5368 - val_loss: 1.3191 - val_accuracy: 0.5357\n",
      "Epoch 55/100\n",
      "90000/90000 [==============================] - 5s 60us/sample - loss: 1.2610 - accuracy: 0.5419 - val_loss: 1.2611 - val_accuracy: 0.5523\n",
      "Epoch 56/100\n",
      "90000/90000 [==============================] - 5s 60us/sample - loss: 1.2590 - accuracy: 0.5417 - val_loss: 1.2517 - val_accuracy: 0.5580\n",
      "Epoch 57/100\n",
      "90000/90000 [==============================] - 5s 60us/sample - loss: 1.2512 - accuracy: 0.5438 - val_loss: 1.2447 - val_accuracy: 0.5512\n",
      "Epoch 58/100\n",
      "90000/90000 [==============================] - 5s 60us/sample - loss: 1.2460 - accuracy: 0.5482 - val_loss: 1.2750 - val_accuracy: 0.5463\n",
      "Epoch 59/100\n",
      "90000/90000 [==============================] - 5s 60us/sample - loss: 1.2448 - accuracy: 0.5483 - val_loss: 1.2681 - val_accuracy: 0.5465\n",
      "Epoch 60/100\n",
      "90000/90000 [==============================] - 5s 60us/sample - loss: 1.2401 - accuracy: 0.5497 - val_loss: 1.3597 - val_accuracy: 0.5337\n",
      "Epoch 61/100\n",
      "90000/90000 [==============================] - 5s 60us/sample - loss: 1.2349 - accuracy: 0.5522 - val_loss: 1.3086 - val_accuracy: 0.5334\n",
      "Epoch 62/100\n",
      "90000/90000 [==============================] - 5s 60us/sample - loss: 1.2316 - accuracy: 0.5532 - val_loss: 1.2617 - val_accuracy: 0.5530\n",
      "Epoch 63/100\n",
      "90000/90000 [==============================] - 5s 60us/sample - loss: 1.2280 - accuracy: 0.5553 - val_loss: 1.1956 - val_accuracy: 0.5738\n",
      "Epoch 64/100\n",
      "90000/90000 [==============================] - 5s 60us/sample - loss: 1.2209 - accuracy: 0.5574 - val_loss: 1.3389 - val_accuracy: 0.5347\n",
      "Epoch 65/100\n",
      "90000/90000 [==============================] - 5s 60us/sample - loss: 1.2219 - accuracy: 0.5601 - val_loss: 1.2649 - val_accuracy: 0.5557\n",
      "Epoch 66/100\n",
      "90000/90000 [==============================] - 5s 61us/sample - loss: 1.2154 - accuracy: 0.5602 - val_loss: 1.2282 - val_accuracy: 0.5684\n",
      "Epoch 67/100\n",
      "90000/90000 [==============================] - 5s 61us/sample - loss: 1.2106 - accuracy: 0.5635 - val_loss: 1.2102 - val_accuracy: 0.5744\n",
      "Epoch 68/100\n",
      "90000/90000 [==============================] - 5s 60us/sample - loss: 1.2087 - accuracy: 0.5634 - val_loss: 1.1487 - val_accuracy: 0.5948\n",
      "Epoch 69/100\n",
      "90000/90000 [==============================] - 5s 60us/sample - loss: 1.2054 - accuracy: 0.5642 - val_loss: 1.2082 - val_accuracy: 0.5731\n",
      "Epoch 70/100\n",
      "90000/90000 [==============================] - 5s 60us/sample - loss: 1.2021 - accuracy: 0.5673 - val_loss: 1.1689 - val_accuracy: 0.5898\n",
      "Epoch 71/100\n",
      "90000/90000 [==============================] - 5s 60us/sample - loss: 1.1949 - accuracy: 0.5681 - val_loss: 1.1531 - val_accuracy: 0.5944\n",
      "Epoch 72/100\n",
      "90000/90000 [==============================] - 5s 60us/sample - loss: 1.1924 - accuracy: 0.5693 - val_loss: 1.2141 - val_accuracy: 0.5687\n",
      "Epoch 73/100\n",
      "90000/90000 [==============================] - 5s 61us/sample - loss: 1.1871 - accuracy: 0.5722 - val_loss: 1.1188 - val_accuracy: 0.6078\n",
      "Epoch 74/100\n",
      "90000/90000 [==============================] - 5s 61us/sample - loss: 1.1856 - accuracy: 0.5716 - val_loss: 1.1946 - val_accuracy: 0.5781\n",
      "Epoch 75/100\n",
      "90000/90000 [==============================] - 5s 61us/sample - loss: 1.1831 - accuracy: 0.5724 - val_loss: 1.1531 - val_accuracy: 0.5974\n",
      "Epoch 76/100\n",
      "90000/90000 [==============================] - 5s 61us/sample - loss: 1.1792 - accuracy: 0.5753 - val_loss: 1.1823 - val_accuracy: 0.5807\n",
      "Epoch 77/100\n",
      "90000/90000 [==============================] - 6s 61us/sample - loss: 1.1779 - accuracy: 0.5743 - val_loss: 1.2332 - val_accuracy: 0.5756\n",
      "Epoch 78/100\n",
      "90000/90000 [==============================] - 6s 63us/sample - loss: 1.1757 - accuracy: 0.5743 - val_loss: 1.2679 - val_accuracy: 0.5582\n",
      "Epoch 79/100\n",
      "90000/90000 [==============================] - 5s 61us/sample - loss: 1.1702 - accuracy: 0.5790 - val_loss: 1.1613 - val_accuracy: 0.5937\n",
      "Epoch 80/100\n",
      "90000/90000 [==============================] - 6s 61us/sample - loss: 1.1676 - accuracy: 0.5803 - val_loss: 1.1262 - val_accuracy: 0.6007\n",
      "Epoch 81/100\n",
      "90000/90000 [==============================] - 6s 62us/sample - loss: 1.1670 - accuracy: 0.5814 - val_loss: 1.1960 - val_accuracy: 0.5759\n",
      "Epoch 82/100\n",
      "90000/90000 [==============================] - 6s 61us/sample - loss: 1.1611 - accuracy: 0.5801 - val_loss: 1.1014 - val_accuracy: 0.6136\n",
      "Epoch 83/100\n",
      "90000/90000 [==============================] - 5s 61us/sample - loss: 1.1603 - accuracy: 0.5848 - val_loss: 1.1580 - val_accuracy: 0.5979\n",
      "Epoch 84/100\n",
      "90000/90000 [==============================] - 5s 61us/sample - loss: 1.1605 - accuracy: 0.5834 - val_loss: 1.1081 - val_accuracy: 0.6105\n",
      "Epoch 85/100\n",
      "90000/90000 [==============================] - 5s 61us/sample - loss: 1.1551 - accuracy: 0.5853 - val_loss: 1.1210 - val_accuracy: 0.5991\n",
      "Epoch 86/100\n",
      "90000/90000 [==============================] - 5s 61us/sample - loss: 1.1500 - accuracy: 0.5875 - val_loss: 1.1919 - val_accuracy: 0.5920\n",
      "Epoch 87/100\n",
      "90000/90000 [==============================] - 5s 61us/sample - loss: 1.1524 - accuracy: 0.5856 - val_loss: 1.1117 - val_accuracy: 0.6099\n",
      "Epoch 88/100\n",
      "90000/90000 [==============================] - 5s 61us/sample - loss: 1.1471 - accuracy: 0.5889 - val_loss: 1.2080 - val_accuracy: 0.5853\n",
      "Epoch 89/100\n",
      "90000/90000 [==============================] - 6s 62us/sample - loss: 1.1428 - accuracy: 0.5904 - val_loss: 1.1775 - val_accuracy: 0.5876\n",
      "Epoch 90/100\n",
      "90000/90000 [==============================] - 6s 64us/sample - loss: 1.1471 - accuracy: 0.5898 - val_loss: 1.0839 - val_accuracy: 0.6210\n",
      "Epoch 91/100\n",
      "90000/90000 [==============================] - 6s 63us/sample - loss: 1.1430 - accuracy: 0.5901 - val_loss: 1.1072 - val_accuracy: 0.6076\n",
      "Epoch 92/100\n",
      "90000/90000 [==============================] - 5s 60us/sample - loss: 1.1376 - accuracy: 0.5925 - val_loss: 1.1365 - val_accuracy: 0.6032\n",
      "Epoch 93/100\n",
      "90000/90000 [==============================] - 5s 60us/sample - loss: 1.1379 - accuracy: 0.5941 - val_loss: 1.0310 - val_accuracy: 0.6363\n",
      "Epoch 94/100\n",
      "90000/90000 [==============================] - 5s 60us/sample - loss: 1.1285 - accuracy: 0.5958 - val_loss: 1.1174 - val_accuracy: 0.6059\n",
      "Epoch 95/100\n",
      "90000/90000 [==============================] - 5s 61us/sample - loss: 1.1299 - accuracy: 0.5922 - val_loss: 1.0644 - val_accuracy: 0.6306\n",
      "Epoch 96/100\n",
      "90000/90000 [==============================] - 5s 61us/sample - loss: 1.1325 - accuracy: 0.5969 - val_loss: 1.0555 - val_accuracy: 0.6323\n",
      "Epoch 97/100\n",
      "90000/90000 [==============================] - 5s 60us/sample - loss: 1.1264 - accuracy: 0.5966 - val_loss: 1.0928 - val_accuracy: 0.6168\n",
      "Epoch 98/100\n",
      "90000/90000 [==============================] - 5s 60us/sample - loss: 1.1276 - accuracy: 0.5973 - val_loss: 1.1428 - val_accuracy: 0.6039\n",
      "Epoch 99/100\n",
      "90000/90000 [==============================] - 5s 60us/sample - loss: 1.1262 - accuracy: 0.5966 - val_loss: 1.0759 - val_accuracy: 0.6212\n",
      "Epoch 100/100\n",
      "90000/90000 [==============================] - 5s 60us/sample - loss: 1.1202 - accuracy: 0.5998 - val_loss: 1.0642 - val_accuracy: 0.6312\n"
     ]
    }
   ],
   "source": [
    "num_epochs = 100\n",
    "bs = 100\n",
    "\n",
    "model = build_model()\n",
    "\n",
    "history = model.fit(all_train_images, train_labels_categorical, \n",
    "                    validation_data=(val_images, val_labels_categorical), \n",
    "                    epochs=num_epochs, batch_size=bs, verbose=1)\n",
    "# note that the default batch size is 32"
   ]
  },
  {
   "cell_type": "code",
   "execution_count": 17,
   "metadata": {},
   "outputs": [],
   "source": [
    "epoch_range = list(range(1, num_epochs+1))\n",
    "training_loss = history.history['loss']\n",
    "val_loss = history.history['val_loss']\n",
    "\n",
    "train_acc = history.history['accuracy']\n",
    "val_acc = history.history['val_accuracy']"
   ]
  },
  {
   "cell_type": "code",
   "execution_count": 18,
   "metadata": {},
   "outputs": [
    {
     "data": {
      "text/plain": [
       "Text(0.5, 1.0, 'Training and Validation Loss')"
      ]
     },
     "execution_count": 18,
     "metadata": {},
     "output_type": "execute_result"
    },
    {
     "data": {
      "image/png": "[encoded data removed]",
      "text/plain": [
       "<Figure size 432x288 with 1 Axes>"
      ]
     },
     "metadata": {
      "needs_background": "light"
     },
     "output_type": "display_data"
    }
   ],
   "source": [
    "plt.plot(epoch_range, training_loss, 'b', label='Training Loss')\n",
    "plt.plot(epoch_range, val_loss, 'r', label='Validation Loss')\n",
    "plt.xlabel('Epochs')\n",
    "plt.ylabel('Loss')\n",
    "plt.legend()\n",
    "plt.title('Training and Validation Loss')"
   ]
  },
  {
   "cell_type": "code",
   "execution_count": 19,
   "metadata": {},
   "outputs": [
    {
     "data": {
      "text/plain": [
       "Text(0.5, 1.0, 'Training and Validation Accuracy')"
      ]
     },
     "execution_count": 19,
     "metadata": {},
     "output_type": "execute_result"
    },
    {
     "data": {
      "image/png": "[encoded data removed]",
      "text/plain": [
       "<Figure size 432x288 with 1 Axes>"
      ]
     },
     "metadata": {
      "needs_background": "light"
     },
     "output_type": "display_data"
    }
   ],
   "source": [
    "plt.plot(epoch_range, train_acc, 'b', label='Training Accuracy')\n",
    "plt.plot(epoch_range, val_acc, 'r', label='Validation Accuracy')\n",
    "plt.xlabel('Epochs')\n",
    "plt.ylabel('Loss')\n",
    "plt.legend()\n",
    "plt.title('Training and Validation Accuracy')"
   ]
  },
  {
   "cell_type": "code",
   "execution_count": 20,
   "metadata": {},
   "outputs": [
    {
     "name": "stdout",
     "output_type": "stream",
     "text": [
      "10000/10000 [==============================] - 1s 107us/sample - loss: 1.0749 - accuracy: 0.6245\n",
      "Test Loss =  1.0749313577651978\n",
      "Test Accuracy =  0.6245\n"
     ]
    }
   ],
   "source": [
    "test_loss, test_accuracy = model.evaluate(test_images, test_labels_categorical)\n",
    "\n",
    "print('Test Loss = ', test_loss)\n",
    "print('Test Accuracy = ', test_accuracy)"
   ]
  },
  {
   "cell_type": "markdown",
   "metadata": {},
   "source": []
  }
 ],
 "metadata": {
  "kernelspec": {
   "display_name": "Python 3",
   "language": "python",
   "name": "python3"
  },
  "language_info": {
   "codemirror_mode": {
    "name": "ipython",
    "version": 3
   },
   "file_extension": ".py",
   "mimetype": "text/x-python",
   "name": "python",
   "nbconvert_exporter": "python",
   "pygments_lexer": "ipython3",
   "version": "3.5.3"
  }
 },
 "nbformat": 4,
 "nbformat_minor": 4
}
